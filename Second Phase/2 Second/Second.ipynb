{
 "cells": [
  {
   "cell_type": "code",
   "execution_count": 56,
   "metadata": {},
   "outputs": [],
   "source": [
    "import warnings\n",
    "warnings.filterwarnings('ignore')\n",
    "from operator import itemgetter\n",
    "import pandas as pd #dataframe\n",
    "import numpy as np #mathematical computations\n",
    "import matplotlib.pyplot as plt #visualization\n",
    "import matplotlib\n",
    "import seaborn as sns #visualization\n",
    "import json #exporting columns\n",
    "import pickle #saving the model\n",
    "from sklearn.linear_model import LinearRegression #Linear Regression\n",
    "from sklearn.linear_model import Lasso #Lasso Regression\n",
    "from sklearn.tree import DecisionTreeRegressor #Decision Tree Regression\n",
    "from sklearn.ensemble import RandomForestRegressor #Random Forest Regression\n",
    "from sklearn.model_selection import train_test_split #Splitting the dataset into training and testing\n",
    "from sklearn.model_selection import ShuffleSplit #Random shuffling\n",
    "from sklearn.model_selection import cross_val_score #Score cross validation\n",
    "from sklearn.model_selection import GridSearchCV #Hyper parameter tuning\n",
    "from warnings import simplefilter #Filtering warnings\n",
    "import seaborn as sns\n",
    "from datetime import datetime\n",
    "from scipy import stats"
   ]
  },
  {
   "cell_type": "code",
   "execution_count": 57,
   "metadata": {},
   "outputs": [
    {
     "data": {
      "text/html": [
       "<div>\n",
       "<style scoped>\n",
       "    .dataframe tbody tr th:only-of-type {\n",
       "        vertical-align: middle;\n",
       "    }\n",
       "\n",
       "    .dataframe tbody tr th {\n",
       "        vertical-align: top;\n",
       "    }\n",
       "\n",
       "    .dataframe thead th {\n",
       "        text-align: right;\n",
       "    }\n",
       "</style>\n",
       "<table border=\"1\" class=\"dataframe\">\n",
       "  <thead>\n",
       "    <tr style=\"text-align: right;\">\n",
       "      <th></th>\n",
       "      <th>Receiving NPO Name*</th>\n",
       "      <th>UEN</th>\n",
       "    </tr>\n",
       "  </thead>\n",
       "  <tbody>\n",
       "    <tr>\n",
       "      <th>0</th>\n",
       "      <td>Samaritans of Singapore</td>\n",
       "      <td>S69SS0047D</td>\n",
       "    </tr>\n",
       "    <tr>\n",
       "      <th>1</th>\n",
       "      <td>SPD (formerly Society for the Physically Disab...</td>\n",
       "      <td>S64SS0052D</td>\n",
       "    </tr>\n",
       "    <tr>\n",
       "      <th>2</th>\n",
       "      <td>SPD (formerly Society for the Physically Disab...</td>\n",
       "      <td>S64SS0052D</td>\n",
       "    </tr>\n",
       "    <tr>\n",
       "      <th>3</th>\n",
       "      <td>Habitat for Humanity Singapore Ltd</td>\n",
       "      <td>200201617W</td>\n",
       "    </tr>\n",
       "    <tr>\n",
       "      <th>4</th>\n",
       "      <td>Children's Cancer Foundation</td>\n",
       "      <td>201934434R</td>\n",
       "    </tr>\n",
       "    <tr>\n",
       "      <th>...</th>\n",
       "      <td>...</td>\n",
       "      <td>...</td>\n",
       "    </tr>\n",
       "    <tr>\n",
       "      <th>15940</th>\n",
       "      <td>Gardens by the Bay</td>\n",
       "      <td>201132829N</td>\n",
       "    </tr>\n",
       "    <tr>\n",
       "      <th>15941</th>\n",
       "      <td>SingHealth Fund - SingHealth Polyclinics (SHP)</td>\n",
       "      <td>201624016E</td>\n",
       "    </tr>\n",
       "    <tr>\n",
       "      <th>15942</th>\n",
       "      <td>SingHealth Fund - SingHealth Polyclinics (SHP)</td>\n",
       "      <td>201624016E</td>\n",
       "    </tr>\n",
       "    <tr>\n",
       "      <th>15943</th>\n",
       "      <td>Daughters Of Tomorrow Limited</td>\n",
       "      <td>201425430M</td>\n",
       "    </tr>\n",
       "    <tr>\n",
       "      <th>15944</th>\n",
       "      <td>RAHMATAN LIL ALAMIN FOUNDATION</td>\n",
       "      <td>200910530Z</td>\n",
       "    </tr>\n",
       "  </tbody>\n",
       "</table>\n",
       "<p>15945 rows × 2 columns</p>\n",
       "</div>"
      ],
      "text/plain": [
       "                                     Receiving NPO Name*         UEN\n",
       "0                                Samaritans of Singapore  S69SS0047D\n",
       "1      SPD (formerly Society for the Physically Disab...  S64SS0052D\n",
       "2      SPD (formerly Society for the Physically Disab...  S64SS0052D\n",
       "3                     Habitat for Humanity Singapore Ltd  200201617W\n",
       "4                           Children's Cancer Foundation  201934434R\n",
       "...                                                  ...         ...\n",
       "15940                                 Gardens by the Bay  201132829N\n",
       "15941     SingHealth Fund - SingHealth Polyclinics (SHP)  201624016E\n",
       "15942     SingHealth Fund - SingHealth Polyclinics (SHP)  201624016E\n",
       "15943                      Daughters Of Tomorrow Limited  201425430M\n",
       "15944                     RAHMATAN LIL ALAMIN FOUNDATION  200910530Z\n",
       "\n",
       "[15945 rows x 2 columns]"
      ]
     },
     "execution_count": 57,
     "metadata": {},
     "output_type": "execute_result"
    }
   ],
   "source": [
    "NPO_UEN = pd.read_csv('./NPO_UEN.csv',encoding = \"ISO-8859-1\")\n",
    "combined_scale = pd.read_csv('./combine_scale.csv',encoding = \"ISO-8859-1\")\n",
    "#combined_scale = pd.read_csv('./combined.csv',encoding = \"ISO-8859-1\")\n",
    "NPO_UEN"
   ]
  },
  {
   "cell_type": "code",
   "execution_count": 58,
   "metadata": {},
   "outputs": [
    {
     "data": {
      "text/plain": [
       "(15945, 2)"
      ]
     },
     "execution_count": 58,
     "metadata": {},
     "output_type": "execute_result"
    }
   ],
   "source": [
    "NPO_UEN.shape"
   ]
  },
  {
   "cell_type": "code",
   "execution_count": 59,
   "metadata": {},
   "outputs": [
    {
     "data": {
      "text/plain": [
       "Index(['S/N', 'Name of Organisation', 'Type', 'UEN', 'IPC Period', 'Sector',\n",
       "       'Classification', 'Activities', 'Scale_type'],\n",
       "      dtype='object')"
      ]
     },
     "execution_count": 59,
     "metadata": {},
     "output_type": "execute_result"
    }
   ],
   "source": [
    "combined_scale.columns"
   ]
  },
  {
   "cell_type": "code",
   "execution_count": 60,
   "metadata": {},
   "outputs": [
    {
     "data": {
      "text/plain": [
       "(591, 2)"
      ]
     },
     "execution_count": 60,
     "metadata": {},
     "output_type": "execute_result"
    }
   ],
   "source": [
    "NPO_UEN2  =  NPO_UEN.drop_duplicates(subset=['UEN'])\n",
    "NPO_UEN2.shape\n",
    "# This way is better"
   ]
  },
  {
   "cell_type": "code",
   "execution_count": 61,
   "metadata": {},
   "outputs": [],
   "source": [
    "NPO_UEN2.to_csv('drop_duplicated.csv', index=None)"
   ]
  },
  {
   "cell_type": "code",
   "execution_count": 62,
   "metadata": {},
   "outputs": [
    {
     "data": {
      "text/plain": [
       "Index(['S/N', 'Name of Organisation', 'Type', 'UEN', 'IPC Period', 'Sector',\n",
       "       'Classification', 'Activities', 'Scale_type'],\n",
       "      dtype='object')"
      ]
     },
     "execution_count": 62,
     "metadata": {},
     "output_type": "execute_result"
    }
   ],
   "source": [
    "combined_scale.columns"
   ]
  },
  {
   "cell_type": "code",
   "execution_count": 63,
   "metadata": {},
   "outputs": [
    {
     "data": {
      "text/plain": [
       "0        S69SS0047D\n",
       "1        S64SS0052D\n",
       "3        200201617W\n",
       "4        201934434R\n",
       "5        T10CC0004L\n",
       "            ...    \n",
       "14502    T16CC0006L\n",
       "14670    199303918N\n",
       "14770    T07CC3011L\n",
       "15037    S62SS0052E\n",
       "15462    S76SS0039A\n",
       "Name: UEN, Length: 605, dtype: object"
      ]
     },
     "execution_count": 63,
     "metadata": {},
     "output_type": "execute_result"
    }
   ],
   "source": [
    "list"
   ]
  },
  {
   "cell_type": "code",
   "execution_count": 64,
   "metadata": {},
   "outputs": [
    {
     "data": {
      "text/html": [
       "<div>\n",
       "<style scoped>\n",
       "    .dataframe tbody tr th:only-of-type {\n",
       "        vertical-align: middle;\n",
       "    }\n",
       "\n",
       "    .dataframe tbody tr th {\n",
       "        vertical-align: top;\n",
       "    }\n",
       "\n",
       "    .dataframe thead th {\n",
       "        text-align: right;\n",
       "    }\n",
       "</style>\n",
       "<table border=\"1\" class=\"dataframe\">\n",
       "  <thead>\n",
       "    <tr style=\"text-align: right;\">\n",
       "      <th></th>\n",
       "      <th>S/N</th>\n",
       "      <th>Name of Organisation</th>\n",
       "      <th>Type</th>\n",
       "      <th>UEN</th>\n",
       "      <th>IPC Period</th>\n",
       "      <th>Sector</th>\n",
       "      <th>Classification</th>\n",
       "      <th>Activities</th>\n",
       "      <th>Scale_type</th>\n",
       "    </tr>\n",
       "  </thead>\n",
       "  <tbody>\n",
       "    <tr>\n",
       "      <th>0</th>\n",
       "      <td>189</td>\n",
       "      <td>Samaritans of Singapore</td>\n",
       "      <td>Registered with IPC</td>\n",
       "      <td>S69SS0047D</td>\n",
       "      <td>From 01/4/2022 to 31/12/2024</td>\n",
       "      <td>Social and Welfare</td>\n",
       "      <td>Community,Support Groups</td>\n",
       "      <td>Direct Services Public awareness, promotion &amp; ...</td>\n",
       "      <td>10000000</td>\n",
       "    </tr>\n",
       "    <tr>\n",
       "      <th>1</th>\n",
       "      <td>238</td>\n",
       "      <td>SPD</td>\n",
       "      <td>Registered with IPC</td>\n",
       "      <td>S64SS0052D</td>\n",
       "      <td>From 01/1/2022 to 31/12/2025</td>\n",
       "      <td>Social and Welfare</td>\n",
       "      <td>Disability (Adult),Disability (Children)</td>\n",
       "      <td>Direct Services Public awareness, promotion &amp; ...</td>\n",
       "      <td>20000000</td>\n",
       "    </tr>\n",
       "    <tr>\n",
       "      <th>2</th>\n",
       "      <td>339</td>\n",
       "      <td>HABITAT FOR HUMANITY SINGAPORE LTD</td>\n",
       "      <td>Registered with IPC</td>\n",
       "      <td>200201617W</td>\n",
       "      <td>From 09/3/2023 to 08/3/2025</td>\n",
       "      <td>Others</td>\n",
       "      <td>General Charitable Purposes</td>\n",
       "      <td>Direct Services Public awareness, promotion &amp; ...</td>\n",
       "      <td>5000000</td>\n",
       "    </tr>\n",
       "    <tr>\n",
       "      <th>3</th>\n",
       "      <td>45</td>\n",
       "      <td>CHILDREN'S CANCER FOUNDATION</td>\n",
       "      <td>Registered with IPC</td>\n",
       "      <td>201934434R</td>\n",
       "      <td>From 05/5/2022 to 04/5/2025</td>\n",
       "      <td>Health</td>\n",
       "      <td>Diseases/Illnessess Support Group</td>\n",
       "      <td>Direct Services Public awareness, promotion &amp; ...</td>\n",
       "      <td>20000000</td>\n",
       "    </tr>\n",
       "    <tr>\n",
       "      <th>4</th>\n",
       "      <td>433</td>\n",
       "      <td>Zonta Singapore- Project Pari Fund</td>\n",
       "      <td>Registered with IPC</td>\n",
       "      <td>T10CC0004L</td>\n",
       "      <td>From 01/5/2021 to 31/1/2024</td>\n",
       "      <td>Social and Welfare</td>\n",
       "      <td>Community</td>\n",
       "      <td>Financial assistance, bursaries &amp; scholarships</td>\n",
       "      <td>250000</td>\n",
       "    </tr>\n",
       "    <tr>\n",
       "      <th>...</th>\n",
       "      <td>...</td>\n",
       "      <td>...</td>\n",
       "      <td>...</td>\n",
       "      <td>...</td>\n",
       "      <td>...</td>\n",
       "      <td>...</td>\n",
       "      <td>...</td>\n",
       "      <td>...</td>\n",
       "      <td>...</td>\n",
       "    </tr>\n",
       "    <tr>\n",
       "      <th>553</th>\n",
       "      <td>8</td>\n",
       "      <td>ACMI Migrant Fund</td>\n",
       "      <td>Registered with IPC</td>\n",
       "      <td>T16CC0006L</td>\n",
       "      <td>From 04/9/2022 to 03/4/2024</td>\n",
       "      <td>Social and Welfare</td>\n",
       "      <td>Community,Support Groups</td>\n",
       "      <td>Direct Services Public awareness, promotion &amp; ...</td>\n",
       "      <td>1000000</td>\n",
       "    </tr>\n",
       "    <tr>\n",
       "      <th>554</th>\n",
       "      <td>92</td>\n",
       "      <td>INTERNATIONAL COMMUNITY SCHOOL (SINGAPORE) LTD</td>\n",
       "      <td>Registered</td>\n",
       "      <td>199303918N</td>\n",
       "      <td>Not Applicable</td>\n",
       "      <td>Education</td>\n",
       "      <td>Foreign Educational Institutions/Funds</td>\n",
       "      <td>Training &amp; education</td>\n",
       "      <td>20000000</td>\n",
       "    </tr>\n",
       "    <tr>\n",
       "      <th>555</th>\n",
       "      <td>556</td>\n",
       "      <td>PEOPLE'S ASSOCIATION COMMUNITY DEVELOPMENT FUND</td>\n",
       "      <td>Exempt Charity with IPC</td>\n",
       "      <td>T07CC3011L</td>\n",
       "      <td>From 01/6/2022 to 31/5/2027</td>\n",
       "      <td>Community</td>\n",
       "      <td>Central,North East,North West,South East,South...</td>\n",
       "      <td>Public awareness, promotion &amp; advisory</td>\n",
       "      <td>5000000</td>\n",
       "    </tr>\n",
       "    <tr>\n",
       "      <th>556</th>\n",
       "      <td>162</td>\n",
       "      <td>Federation of Youth Clubs, Singapore</td>\n",
       "      <td>Registered</td>\n",
       "      <td>S62SS0052E</td>\n",
       "      <td>Not Applicable</td>\n",
       "      <td>Others</td>\n",
       "      <td>Children/Youth</td>\n",
       "      <td>Direct Services Supports other Charities</td>\n",
       "      <td>50000</td>\n",
       "    </tr>\n",
       "    <tr>\n",
       "      <th>557</th>\n",
       "      <td>692</td>\n",
       "      <td>Singapore Silat Federation</td>\n",
       "      <td>Registered with IPC</td>\n",
       "      <td>S76SS0039A</td>\n",
       "      <td>From 11/2/2022 to 10/2/2024</td>\n",
       "      <td>Sports</td>\n",
       "      <td>NSAs</td>\n",
       "      <td>Direct Services Public awareness, promotion &amp; ...</td>\n",
       "      <td>5000000</td>\n",
       "    </tr>\n",
       "  </tbody>\n",
       "</table>\n",
       "<p>558 rows × 9 columns</p>\n",
       "</div>"
      ],
      "text/plain": [
       "     S/N                             Name of Organisation  \\\n",
       "0    189                          Samaritans of Singapore   \n",
       "1    238                                              SPD   \n",
       "2    339               HABITAT FOR HUMANITY SINGAPORE LTD   \n",
       "3     45                     CHILDREN'S CANCER FOUNDATION   \n",
       "4    433               Zonta Singapore- Project Pari Fund   \n",
       "..   ...                                              ...   \n",
       "553    8                                ACMI Migrant Fund   \n",
       "554   92   INTERNATIONAL COMMUNITY SCHOOL (SINGAPORE) LTD   \n",
       "555  556  PEOPLE'S ASSOCIATION COMMUNITY DEVELOPMENT FUND   \n",
       "556  162             Federation of Youth Clubs, Singapore   \n",
       "557  692                       Singapore Silat Federation   \n",
       "\n",
       "                        Type         UEN                    IPC Period  \\\n",
       "0        Registered with IPC  S69SS0047D  From 01/4/2022 to 31/12/2024   \n",
       "1        Registered with IPC  S64SS0052D  From 01/1/2022 to 31/12/2025   \n",
       "2        Registered with IPC  200201617W   From 09/3/2023 to 08/3/2025   \n",
       "3        Registered with IPC  201934434R   From 05/5/2022 to 04/5/2025   \n",
       "4        Registered with IPC  T10CC0004L   From 01/5/2021 to 31/1/2024   \n",
       "..                       ...         ...                           ...   \n",
       "553      Registered with IPC  T16CC0006L   From 04/9/2022 to 03/4/2024   \n",
       "554               Registered  199303918N                Not Applicable   \n",
       "555  Exempt Charity with IPC  T07CC3011L   From 01/6/2022 to 31/5/2027   \n",
       "556               Registered  S62SS0052E                Not Applicable   \n",
       "557      Registered with IPC  S76SS0039A   From 11/2/2022 to 10/2/2024   \n",
       "\n",
       "                 Sector                                     Classification  \\\n",
       "0    Social and Welfare                           Community,Support Groups   \n",
       "1    Social and Welfare           Disability (Adult),Disability (Children)   \n",
       "2                Others                        General Charitable Purposes   \n",
       "3                Health                  Diseases/Illnessess Support Group   \n",
       "4    Social and Welfare                                          Community   \n",
       "..                  ...                                                ...   \n",
       "553  Social and Welfare                           Community,Support Groups   \n",
       "554           Education             Foreign Educational Institutions/Funds   \n",
       "555           Community  Central,North East,North West,South East,South...   \n",
       "556              Others                                     Children/Youth   \n",
       "557              Sports                                               NSAs   \n",
       "\n",
       "                                            Activities  Scale_type  \n",
       "0    Direct Services Public awareness, promotion & ...    10000000  \n",
       "1    Direct Services Public awareness, promotion & ...    20000000  \n",
       "2    Direct Services Public awareness, promotion & ...     5000000  \n",
       "3    Direct Services Public awareness, promotion & ...    20000000  \n",
       "4       Financial assistance, bursaries & scholarships      250000  \n",
       "..                                                 ...         ...  \n",
       "553  Direct Services Public awareness, promotion & ...     1000000  \n",
       "554                               Training & education    20000000  \n",
       "555             Public awareness, promotion & advisory     5000000  \n",
       "556           Direct Services Supports other Charities       50000  \n",
       "557  Direct Services Public awareness, promotion & ...     5000000  \n",
       "\n",
       "[558 rows x 9 columns]"
      ]
     },
     "execution_count": 64,
     "metadata": {},
     "output_type": "execute_result"
    }
   ],
   "source": [
    "\n",
    "df12 = pd.DataFrame();\n",
    "list = NPO_UEN2['UEN'];\n",
    "for i in list:\n",
    "    df12 =df12.append(combined_scale[combined_scale['UEN']==i])\n",
    "    #print(len(combined_scale[combined_scale['UEN']==i]))\n",
    "df12 = df12.reset_index(drop = True)\n",
    "df12"
   ]
  },
  {
   "cell_type": "code",
   "execution_count": 65,
   "metadata": {},
   "outputs": [],
   "source": [
    "df12.to_csv('part2_result.csv', index=None)"
   ]
  },
  {
   "cell_type": "code",
   "execution_count": 66,
   "metadata": {},
   "outputs": [
    {
     "data": {
      "text/plain": [
       "(558, 9)"
      ]
     },
     "execution_count": 66,
     "metadata": {},
     "output_type": "execute_result"
    }
   ],
   "source": [
    "df12.shape"
   ]
  },
  {
   "cell_type": "code",
   "execution_count": 67,
   "metadata": {},
   "outputs": [],
   "source": [
    "#for i in list:\n",
    "#    df12 =df12.append(combined_scale[combined_scale['UEN']==i])"
   ]
  },
  {
   "cell_type": "code",
   "execution_count": 68,
   "metadata": {},
   "outputs": [],
   "source": [
    "#NPO_UEN3  =  NPO_UEN.drop_duplicates(subset=['UEN'])\n",
    "#NPO_UEN3.shape"
   ]
  },
  {
   "cell_type": "code",
   "execution_count": null,
   "metadata": {},
   "outputs": [],
   "source": []
  }
 ],
 "metadata": {
  "kernelspec": {
   "display_name": "base",
   "language": "python",
   "name": "python3"
  },
  "language_info": {
   "codemirror_mode": {
    "name": "ipython",
    "version": 3
   },
   "file_extension": ".py",
   "mimetype": "text/x-python",
   "name": "python",
   "nbconvert_exporter": "python",
   "pygments_lexer": "ipython3",
   "version": "3.10.6"
  },
  "orig_nbformat": 4
 },
 "nbformat": 4,
 "nbformat_minor": 2
}
