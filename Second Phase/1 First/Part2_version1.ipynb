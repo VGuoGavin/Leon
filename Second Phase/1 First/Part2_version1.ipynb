{
 "cells": [
  {
   "attachments": {},
   "cell_type": "markdown",
   "metadata": {},
   "source": [
    "Before run the codes\n",
    "First need change the file type from xlsx to csv type\n",
    "Then delete the title of every file"
   ]
  },
  {
   "attachments": {},
   "cell_type": "markdown",
   "metadata": {},
   "source": [
    "<font face = \"Time New Roman\" size = 6> Classify all the charities by size </font>"
   ]
  },
  {
   "cell_type": "code",
   "execution_count": 14,
   "metadata": {},
   "outputs": [],
   "source": [
    "import warnings\n",
    "warnings.filterwarnings('ignore')\n",
    "from operator import itemgetter\n",
    "import pandas as pd #dataframe\n",
    "import numpy as np #mathematical computations\n",
    "import matplotlib.pyplot as plt #visualization\n",
    "import matplotlib\n",
    "import seaborn as sns #visualization\n",
    "import json #exporting columns\n",
    "import pickle #saving the model\n",
    "from sklearn.linear_model import LinearRegression #Linear Regression\n",
    "from sklearn.linear_model import Lasso #Lasso Regression\n",
    "from sklearn.tree import DecisionTreeRegressor #Decision Tree Regression\n",
    "from sklearn.ensemble import RandomForestRegressor #Random Forest Regression\n",
    "from sklearn.model_selection import train_test_split #Splitting the dataset into training and testing\n",
    "from sklearn.model_selection import ShuffleSplit #Random shuffling\n",
    "from sklearn.model_selection import cross_val_score #Score cross validation\n",
    "from sklearn.model_selection import GridSearchCV #Hyper parameter tuning\n",
    "from warnings import simplefilter #Filtering warnings\n",
    "import seaborn as sns\n",
    "from datetime import datetime\n",
    "from scipy import stats"
   ]
  },
  {
   "cell_type": "code",
   "execution_count": 15,
   "metadata": {},
   "outputs": [],
   "source": [
    "Data_0 = pd.read_csv('./0.csv',encoding = \"ISO-8859-1\")\n",
    "Data_0_50k = pd.read_csv('./0-50k.csv',encoding = \"ISO-8859-1\")  \n",
    "Data_50k_200k = pd.read_csv('./50k-200k.csv',encoding = \"ISO-8859-1\")\n",
    "Data_200k_250k = pd.read_csv('./200k-250k.csv',encoding = \"ISO-8859-1\")  \n",
    "Data_250k_500k = pd.read_csv('./250k-500k.csv',encoding = \"ISO-8859-1\")  \n",
    "Data_500k_1m = pd.read_csv('./500k-1m.csv',encoding = \"ISO-8859-1\")\n",
    "Data_1m_5m = pd.read_csv('./1m-5m.csv',encoding = \"ISO-8859-1\")  \n",
    "Data_5m_10m = pd.read_csv('./5m-10m.csv',encoding = \"ISO-8859-1\")\n",
    "Data_10m = pd.read_csv('./10m_.csv',encoding = \"ISO-8859-1\")  \n"
   ]
  },
  {
   "cell_type": "code",
   "execution_count": 16,
   "metadata": {},
   "outputs": [],
   "source": [
    "Data_0['Scale_type'] = 0;\n",
    "Data_0_50k['Scale_type'] = 50000;\n",
    "Data_50k_200k['Scale_type'] = 200000;\n",
    "Data_200k_250k['Scale_type'] = 250000;\n",
    "Data_250k_500k['Scale_type'] = 500000;\n",
    "Data_500k_1m['Scale_type'] = 1000000;\n",
    "Data_1m_5m['Scale_type'] = 5000000;\n",
    "Data_5m_10m['Scale_type'] = 10000000;\n",
    "Data_10m['Scale_type'] = 20000000;\n"
   ]
  },
  {
   "cell_type": "code",
   "execution_count": 17,
   "metadata": {},
   "outputs": [],
   "source": [
    "def same_element(list1,list2):\n",
    "    set1 = set(list1)\n",
    "    set2 = set(list2)\n",
    "    return (set1 & set2),(set1 ^ set2),((set1|set2)-set2),((set1|set2)-set1)"
   ]
  },
  {
   "cell_type": "code",
   "execution_count": 18,
   "metadata": {},
   "outputs": [
    {
     "name": "stdout",
     "output_type": "stream",
     "text": [
      "相同元素个数： 49 \n",
      "相同的元素： {'S M JALEEL FOUNDATION LTD.', 'MRS PIROSKA RAJARATNAM MEMORIAL TRUST FUND', 'THE SOVEREIGN ART CHARITY LTD.', \"ST JOHN'S, CAMBRIDGE (SINGAPORE)\", 'ONG FOUNDATION', 'DAVID COLVIN SCOTT FOUNDATION LIMITED', 'Assemblies of God Community Services Society', 'CARMEL COMMUNITY SERVICES LTD.', 'CAMPVISION LTD.', 'Khyenkong Tharjay Buddhist Charitable Society', 'JOO CHIAT CCC COMMUNITY DEVELOPMENT AND WELFARE FUND', 'Student Christian Movement of Singapore', 'THE BREAK AWAY HOLIDAY CHARITY LTD.', 'TAN MOK KOON CHARITY FUND LIMITED', 'KATHO TEMPLE', 'Children of Mother Earth Society (Singapore)', 'SINGAPORE INSTITUTE OF BIOLOGY RESEARCH TRUST FUND', 'THE UNIVERSITY OF CHICAGO (SINGAPORE) FUND', 'CHOW & CHOWS CHARITY LTD.', 'ACES CARE LIMITED', 'NEW CENTURY FOUNDATION LIMITED', 'HEARTBEAT (SINGAPORE)', 'CANCER WELLNESS LIMITED', 'Change Our World', 'Hian Yong Tuah Toh Tong', 'SHAIKH OMAR ALKHATIB EDUCATIONAL FUND', 'SNPL CHARITY FUND', 'ADMIRALTY CCC COMMUNITY DEVELOPMENT AND WELFARE FUND', 'Coalition Against Bullying for Children and Youth (CABCY)', 'SCULPTURE SQUARE LIMITED', 'SINGAPORE CHINESE MUSIC FEDERATION', 'Polytechnic Christian Fellowship, Singapore', 'Olivet Bible-Presbyterian Church', 'AT CAPITAL CHARITABLE FOUNDATION LIMITED', 'Teck Ghee Community Development, Welfare And Building Fund', 'Covenant Vision Christian Mission', 'Human HeartS', 'NTU Tabernacle Fellowship', 'Leng Kong Toh Tong', 'CANOSSA MISSION SINGAPORE', 'CHOW & CHOWS CHILDCARE & EARLY LEARNING CENTRE (FENGSHAN) LTD.', 'Association for Breastfeeding Advocacy (Singapore)', 'Cornerstone Evangelical Baptist Church', 'International College of Surgeons (Singapore Section)', 'Retinitis Pigmentosa Society (Singapore)', 'SINGAPORE BIBLE COLLEGE LIMITED', \"VARIETY - THE CHILDREN'S CHARITY OF SINGAPORE LIMITED\", 'GESS FUND LTD.', 'VICTORY CHURCH'}\n",
      "不相同的元素个数： 536 \n",
      "不同的元素： {'Eden Community Services Centre', \"NEW REDEEMER'S FELLOWSHIP SOCIETY\", 'Sing Man Temple (Singapore)', 'UMAR PULAVAR SCHOLARSHIP TRUST FUND', 'Sathya Sai Mission (Singapore)', 'THE ELLA DOROTHY WEARNE TRUST FUND', 'SCAB LIMITED', 'EVANGELICAL ALLIANCE OF SINGAPORE LTD.', 'T.H.E. Buddhist Nunnery', 'RISE COMMUNITY LIMITED', 'CANBERRA CCC COMMUNITY DEVELOPMENT AND WELFARE FUND', 'See Thian Foh Combined Temple', 'EVERCARE WELFARE CENTRE', 'Crowd Fellowship', 'MEE TOH FOUNDATION LIMITED', 'Charis Centre', 'LOTUS LIFE FOUNDATION LIMITED', 'Federation of Youth Clubs, Singapore', \"BOYS' TOWN, SINGAPORE\", 'SEMBAWANG WEST CCC COMMUNITY DEVELOPMENT AND WELFARE FUND', 'CURIOUS THOUGHTS GIVING LIMITED', 'BOP HUB LTD.', 'Domestic Employees Welfare Fund', 'Varsity Christian Fellowship, Singapore, The', 'JAMES RAPER TRUST FUND', 'AMBULANCE WISH (SINGAPORE) LTD.', 'The Stephen A. Schwarzman Scholars Trust', 'Punggol West CCC Community Development and Welfare Fund', 'YOUTHWORKS LTD.', 'MATAMPATH KOCHUNNI NAYAR MEMORIAL FUND', 'EMANCIPASIA LTD.', 'Sports Boules Singapore', 'LIN XIAO DIAN CHARITY SOCIETY', \"Shepherd's Assembly\", 'EUNOS CCC COMMUNITY DEVELOPMENT AND WELFARE FUND', 'Sri Sathya Sai Society, Singapore', 'INTERNATIONAL CHINESE CULTURE EXCHANGE FEDERATION LIMITED', 'NANYANG KINDERGARTEN 118 CAMPUS BUILDING FUND', 'Jump Rope Federation (Singapore)', 'Operation Renewal (Singapore)', 'RADHA MADHAV SATSANG', 'Triumphs Of His Grace', 'CHURCH OF CHRIST THE ROCK', 'Concern & Care Society', 'GREENSG COLLAB LTD.', 'JAMES CRAIG FUND', 'TAI KAK SEAH TEMPLE', 'Tuan Kong Beo (Teochew) Temple', 'MIT CLUB OF SINGAPORE SCHOLARSHIP FUND', 'Dermatological Society of Singapore', 'Life Spring Community Network', 'SENGKANG EAST CCC COMMUNITY DEVELOPMENT AND WELFARE FUND', 'Family Enrichment Society', 'THE SINGAPORE YOUTH CHOIR LTD', 'CHOU SING CHU FOUNDATION', 'CHANGI SIMEI CCC COMMUNITY DEVELOPMENT AND WELFARE FUND', 'KAKI BUKIT CCC COMMUNITY DEVELOPMENT AND WELFARE FUND', 'ISLAMIC DEVELOPMENT BANK EDUCATION TRUST', 'SPOT ART LIMITED', 'NALANDA LIBRARY FUND LIMITED', 'CHINESE CULTURAL ASSOCIATION', 'PEI HWA FOUNDATION LIMITED', \"CRESCENT GIRLS' SCHOOL ALUMNAE ASSOCIATION TRUST FUND\", 'Agape Counselling and Training Centre', 'SOULRICH FOUNDATION LTD.', 'Catholic Prayer Society', 'HAPPY ARTS ENTERPRISE LTD.', 'THE WP COMMUNITY FUND', 'Living Streams Christian Church', 'Singapore Chin Leng Keng, The', 'CONGRESS TRUST FUND OF THE OBSTETRICAL AND GYNAECOLOGICAL SOCIETY OF SINGAPORE', 'TAMPINES CHANGKAT CCC COMMUNITY DEVELOPMENT AND WELFARE FUND', 'Philos Assembly of God', 'Singapore Ayyappa Seva Sangham', 'PIONEER CCC COMMUNITY DEVELOPMENT AND WELFARE FUND', 'CHRISTIAN SCIENCE SOCIETY, SINGAPORE', 'SEMBAWANG CENTRAL CCC COMMUNITY DEVELOPMENT AND WELFARE FUND', \"ST. JOSEPH'S INSTITUTION PHILANTHROPIC FUND FOR THE LASALLIAN MISSION LTD.\", 'Promisedland Evangelical Centre', 'KEAT HONG CCC COMMUNITY DEVELOPMENT AND WELFARE FUND', 'Chee Tong Temple', 'INTERNATIONAL RICE RESEARCH INSTITUTE FUND LTD.', 'The GZ Charitable Trust', 'Singapore Eye Foundation', 'MOULMEIN-CAIRNHILL CCC COMMUNITY DEVELOPMENT AND WELFARE FUND', 'National Arts Council', 'HEAN THUAN TOH TONG', \"D'ARTISTES\", 'CENTER FOR LIFE ENRICHMENT LTD', 'Punggol Coast CCC Community Development and Welfare Fund', 'KAMPONG CHAI CHEE CCC COMMUNITY DEVELOPMENT AND WELFARE FUND', \"Caregivers' Association of the Mentally-ill (CAMI)\", 'Jen Chen Buddhist Blissful Culture Centre', 'Bible Evangelism Church', 'MORNING STAR COMMUNITY SERVICES LTD.', 'Lian Huay Temple', 'PROJECT PEACE COMMUNITY CARE OUTREACH LIMITED', 'CHRISTIAN COUNSELLING SERVICES', 'Hwa Kwang Tai Tee Temple', 'AGAPE METHODIST CHURCH', 'LEE KIM TAH FOUNDATION', 'Grace Bible Church', 'Sengkang Central CCC Community Development and Welfare Fund', 'Wai San Buddhist Society, Singapore', 'Society for the Promotion of Attention Deficit Hyperactivity Disorder Research and Knowledge', 'SINGAPORE POCKET OPERA THEATRE LIMITED', 'Gerontological Society', 'THALASSAEMIA SOCIETY (SINGAPORE)', 'Conservation International Singapore Conservation Trust', 'WIRa Association', 'BLC COMMUNITY SERVICES LTD.', 'SINGAPORE BIBLE COLLEGE', 'CAREERCONSORTIA LIMITED', 'Cheng Kak Si', 'Choa Chu Kang Yew Tee Chun Lian He Miow', 'MAJOR JOHN LONG TRUST FUND', \"ST ANDREW'S CATHEDRAL CENTENARY TRUST\", 'Poh Tiong Kiong Temple', 'Chinese Church Union (Singapore)', 'GLAXOSMITHKLINE-EDB HRD FUND', 'GEYLANG SERAI CCC COMMUNITY DEVELOPMENT AND WELFARE FUND', 'Sze Cheng Keng Chinese Temple', 'COLLEGE OF PAEDIATRICS AND CHILD HEALTH, SINGAPORE', 'Gang Tian Da Di Association', 'Endocrine and Metabolic Society of Singapore', 'Qutbi Charitable and Religious Society (Singapore)', 'THE HAGUE INTERNATIONAL MODEL UNITED NATIONS LIMITED', 'Tien Kong Thun Temple', 'Hock Leng Keng Temple', 'NATIONAL CADET CORPS TRAINING AND WELFARE RESERVE FUND', 'SALT AND LIGHT GOSPEL MISSION', 'Church of Christ, North-East', 'Legion of Mary, The', 'Culture Regeneration Research Society', 'Chin Long Kong Temple', 'MAJULAH COMMUNITY LIMITED', 'Student Volunteer Corps (Singapore) (SVC)', 'Buddha Dhamma Mandala Society', 'SERANGOON CCC COMMUNITY DEVELOPMENT AND WELFARE FUND', 'TANJONG PAGAR-TIONG BAHRU CCC COMMUNITY DEVELOPMENT AND WELFARE FUND', 'LIAN CHEE KEK BUDDHIST TEMPLE', 'Society of Love and Compassion', 'DHC HOPE FOUNDATION LTD.', 'LIVE FOR ETERNITY CHURCH LTD.', \"EST OF R M MEYER DEC'D TALMUD TORAH TRUST FUND\", 'Poh Chung Tian Chor Sian Tong', 'KAI SAN TEMPLE ASSOCIATION', 'HOMELESS HEARTS (LTD.)', 'Shri Ram Chandra Mission', 'SOURCE OF LIGHT SOCIETY (SINGAPORE)', 'Wu Tai Shan Buddhist Temple', 'NNI HEALTH ENDOWMENT FUND', 'Glory Centre Community Services Association', 'Netherlands Charity Association, The', 'COMPASS LIFE', 'SUN YAT SEN NANYANG MEMORIAL HALL COMPANY LIMITED', 'Peace Community Chapel', \"Singapore Nurses' Christian Fellowship\", 'United Indian Muslim Association', 'HUMPHREY OEI FOUNDATION LIMITED', 'HYFY LIMITED', 'AGORA@WESTCOASTPLAZA LTD.', 'Helpful Care Group', 'PERCY ALEXANDER BULBROOK CHARITABLE TRUST', 'NATIONAL HEALTHCARE GROUP FUND', 'YYD EDUCATION CENTRE LIMITED', 'SINGAPORE MANUFACTURING FEDERATION EDUCATION AND TRAINING FUND', 'APSN LTD.', 'KAM KWONG CHRISTIAN CHURCH', 'Mistri Trust Fund', 'Caring for Cambodia Fund', \"EMMANUEL TAMIL ANNUAL CONFERENCE WOMEN'S SOCIETY OF CHRISTIAN SERVICE\", 'POTONG PASIR CCC COMMUNITY DEVELOPMENT AND WELFARE FUND', 'HUG COMMUNITY SERVICES LIMITED', 'BUONA VISTA CCC COMMUNITY DEVELOPMENT AND WELFARE FUND', 'DEAF SPORTS ASSOCIATION (SINGAPORE)', 'Charitable Assistance Society', 'Singapore Association for the Study of Obesity', 'TABERNACLE OF HOLINESS CHURCH LIMITED', 'God@Work', 'BAPTIST FELLOWSHIP CHURCH LIMITED', 'Singapore Boxing Federation', 'BRAIN TUMOUR SOCIETY (SINGAPORE) LIMITED', 'Aglow International (Singapore)', 'Yi Do An Chinese Temple', 'FRANCISCAN MISSIONARIES OF MARY', 'DR. OON CHIEW SENG TRUST LIMITED', 'Festival of Praise Fellowship', 'FLUTE ASSOCIATION SINGAPORE', 'TANG RENAISSANCE', 'CHRISTIAN CARE SERVICES (SINGAPORE)', 'PACTA ASIA LIMITED', 'HOUGANG CCC COMMUNITY DEVELOPMENT AND WELFARE FUND', 'Serangoon CCC Community Development and Welfare Fund', 'BABSEACLE SINGAPORE LTD.', 'CHERN NAM KONG SIEW TEMPLE', 'EXCLUSIVELY MONGRELS LIMITED', 'THE PURPLE PARADE LTD.', 'Samadhi Buddhist Society', 'General Board of True Jesus Mission', 'TAMPINES CENTRAL CCC COMMUNITY DEVELOPMENT AND WELFARE FUND', 'Osteoporosis Society (Singapore)', '1987 SICC ANNIVERSARY SCHOLARSHIP FUND', 'Koon Teck Tng', 'HUMAN GENOME ORGANISATION (HUGO) INTERNATIONAL LTD.', 'Tiow Hoon Tien Chinese Temple', 'EST OF DOO GEE LILY ALSO KNOWN AS LILY GEE DOO DECEASED', \"CROHN'S & COLITIS SOCIETY OF SINGAPORE\", 'Tian Gong Tan Temple', \"Breastfeeding Mothers' Support Group (Singapore)\", 'BLESS COMMUNITY SERVICES', 'Kew Ong Yah Temple (Upper Serangoon)', 'LIVE TO LOVE (SINGAPORE) LIMITED', 'Si Dao Feng Jiao Temple', 'Siddhartha Centre', 'THE TADA TETSUYA SHUSHIN FOUNDATION', \"SOCIETY FOR MEN'S HEALTH (SINGAPORE)\", 'University Staff Christian Fellowship', 'Tan Kah Kee International Society', 'Fung Huo Yuan Temple', 'KUO PAO KUN FOUNDATION LIMITED', 'GENERAL WELFARE FUND', 'CHONG HOCK TONG', 'Chee Hia Kog Moral Society', 'KWSH FOUNDATION LIMITED', 'CHEOW LENG BEO TEMPLE', 'ONERHT FOUNDATION LTD.', 'ZI JING CULTURAL CENTRE LTD.', 'THE SILVER LINING COMMUNITY SERVICES LTD.', 'ACADEMY OF ENGINEERING, SINGAPORE', 'Taman Bacaan Pemuda Pemudi Melayu Singapura (Singapore Malay Youth Library Association)', 'BGR INTERNATIONAL', 'My Community', 'Cheo Teik Temple', 'Hoon Sian Keng Temple, The', 'National Foundation for Digestive Diseases', 'Christ Tabernacle', 'Sakyadhita (Daughters of the Buddha)', 'Grace Christian Centre', 'ONE (SINGAPORE)', 'DAS INTERNATIONAL SERVICES LTD.', 'MUSLIMIN TRUST FUND ASSOCIATION BURIAL FUND', 'Pu Ji Si Buddhist Research Centre', 'Singapore Chinese Buddhist Association, The', 'NATIONAL SKIN CENTRE HEALTH ENDOWMENT FUND', 'PRISON FELLOWSHIP INTERNATIONAL AT SINGAPORE LTD.', 'SINGAPORE ASSOCIATION FOR CONTINUING EDUCATION, THE', 'Singapore National Academy Of Science', 'JOHN MEAD DANCE COMPANY LTD.', 'Lotus Sutra Buddhist Association', 'CHRISTIAN PAROUSIA FELLOWSHIP (SINGAPORE)', 'CLEMENTI CCC COMMUNITY DEVELOPMENT AND WELFARE FUND', 'COLLEGE OF OBSTETRICIANS AND GYNAECOLOGISTS, SINGAPORE', 'Welcare Student Care Centre', \"St Luke's Society for the Elderly\", 'A. O. ACTION LOVE LTD.', 'New Horizon Music Society', 'Jen Chen Buddhism Centre', 'Sri Sathya Sai Baba Service Centre', \"YOUNG MUSICIANS' SOCIETY LTD\", 'SAJJAD FOUNDATION LIMITED', 'Church in Missions Association', 'ARK, THE', 'ASHOKA : INNOVATORS FOR THE PUBLIC (SINGAPORE) LIMITED', 'ASTHMA AND ALLERGY ASSOCIATION', 'Lawn Bowls Association for the Disabled (Singapore)', 'ARC LEARNING ACADEMY LTD.', 'WHEELCHAIR RUGBY LIMITED', 'WONDERLABS FOUNDATION LTD.', 'House of the Lord Church', 'OASIS SECOND CHANCE ANIMAL SHELTER LTD.', 'Eckankar Satsang Singapore', 'Blossom World Society', 'FOMOS LTD.', 'Church Alive Ministries l.k.a Shalom Gospel Hall', 'MOUNTBATTEN CCC COMMUNITY DEVELOPMENT AND WELFARE FUND', 'Singapore Arts Federation, The', 'SHIRDI SAI WORSHIP CENTRE LTD.', 'NANYANG KINDERGARTEN 51 CORONATION ROAD BUILDING FUND', 'CAMBRIDGE COLLEGES SCHOLARSHIPS (SINGAPORE) LTD.', 'SINGAPORE ASSOCIATION OF THE SOVEREIGN MILITARY HOSPITALLER ORDER OF ST. JOHN OF JERUSALEM', 'BUKIT TIMAH CCC COMMUNITY DEVELOPMENT AND WELFARE FUND', 'Singapore American Community Action Council, The', \"EST OF R M MEYER DEC'D SYNAGOGUE TRUST FUND\", 'Chartered Institute of Logistics and Transport, Singapore, The', 'Federation of Art Societies, Singapore', 'INTERNATIONAL CHURCH OF THE FOURSQUARE GOSPEL (SINGAPORE) LTD.', 'Society Against Family Violence', 'Lam Hai Poh Toh San', \"BOYS' TOWN\", 'Leng Hok San Hian Leng Temple Tian Se Tao Chiao', 'Singapore Hindu Sabai, The', 'CHANGI FOUNDATION LIMITED', 'EMPOWER AGEING LIMITED', 'Sri Sathya Sai Prema Nilayam', 'Cornerstone Restoration Centre', 'S C Wong Foundation Trust', 'Christian Ekklesia', 'House of Prayer, The', 'Sree Jadaah Muneeswarar Temple', 'Seventy Times Seven', 'Tien Teck Po Yuan Tong', 'LIVING WAY SOCIAL SERVICES LTD.', 'BEDOK RESERVIOR-PUNGGOL CCC COMMUNITY DEVELOPMENT AND WELFARE FUND', 'CFL Lumens Trust', 'Abundant Life Bible-Presbyterian Church', 'TRI SECTOR CHARITY CONSULTANTS LTD.', 'LOVE, NILS LTD.', 'TAN JOO KEE SCHOLARSHIP FUND', 'Lord Buddha Temple', 'Lejia Society', 'Light and Love Charity', 'ACCESS HEALTH INTERNATIONAL SOUTHEAST ASIA LIMITED', 'SINGAPORE EPILEPSY FOUNDATION', 'Singapore Planned Families Association', 'Helping and Empowering our Neighbours (HEN)', 'JLU GLOBAL LTD.', 'Kim Keat Christian Church', 'ULU PANDAN CCC COMMUNITY DEVELOPMENT AND WELFARE FUND', 'JAZZ ASSOCIATION (SINGAPORE)', 'WORLD-IN-THEATRE LTD.', 'Hong San Si Temple Society', 'Singapore Dental Health Foundation', 'Gospel Light Bible- Presbyterian Church', 'LIEN AID LIMITED', 'WORLD FUTURE FOUNDATION LTD.', 'GUI CI MAITREYA ASSOCIATION', 'Ann Jin Kiong', 'CHUA CHU KANG CCC COMMUNITY DEVELOPMENT AND WELFARE FUND', 'Adventist Community Services', 'GOH KENG SWEE FOUNDATION LTD.', 'NGEE ANN CULTURAL CENTRE LIMITED', 'THE WAN BOO SOW CHARITY FUND LIMITED', 'FAITH CHARITY TRUST,THE', 'Chin Fook Meow', 'SG SERVE LTD.', 'LIFELINE HARVEST CHURCH', 'Free Christian Church of Singapore, The', 'Bethany Emmanuel Church', 'OPERAVIVA LIMITED', 'The Evolution', 'Grace Fellowship', 'Beeh Low See Temple', 'YOUTH GOLF NETWORK LTD.', 'Sri Krishna Mandir Welfare Society', 'MRS LIM CHUAN HOE SCHOLARSHIP FUND', 'CENTRAL SIKH GURDWARA BOARD', 'Ruwan Buddhist Society', 'COMMUNITY CULTURAL DEVELOPMENT (SINGAPORE) LTD.', 'Church of Victory', 'Toa Payoh West-Thomson CCC Community Development and Welfare Fund', 'FAH SI LAM BUDDHIST TEMPLE', 'BAROQUE ARTS IN ASIA LTD.', 'MARINE PARADE CCC COMMUNITY DEVELOPMENT AND WELFARE FUND', 'Qing Yun Meow', 'Jubilee Assembly of God', 'Kang Ming Free Clinic', 'CHOW TAI FOOK CHARITY FOUNDATION (SINGAPORE) LIMITED', 'CHEW HUA SENG FOUNDATION LIMITED', 'Sembawang Seng Pang Keng', 'LA SALLE CENTRE (LIMITED)', 'SAWL SCHOLARSHIP FUND', 'SCIENCE CENTRE BOARD ENDOWMENT FUND', 'SALT & LIGHT FOUNDATION', 'LIMITLESS (LTD.)', 'Singapore Ski & Snowboard Association', 'Long Xian Shan Gong Temple', 'FELLOWSHIP OF CHRISTIAN ATHLETES SINGAPORE LIMITED', 'CHANGE COMMUNITY SERVICES LIMITED', 'Friends of the Disabled Society', 'PLATFORM PROJECTS LTD.', 'Aoxiang Counselling Service', 'GOOD GIFTS CITY CHURCH', 'Tian Kong & Woo Looi Ban Tin To Suay Temple', 'Chin Khong Kow Poon Guan San Toh Tong', 'COLLEGE OF ANAESTHESIOLOGISTS, SINGAPORE', 'Dharma Drum (Singapore)', 'Lupus Association (Singapore)', 'THE UNIVERSITY OF CHICAGO BOOTH SCHOOL OF BUSINESS', 'COMMUNITY CONCERN SERVICES', 'Y.W.C.A. PRESCHOOL LTD.', 'Pu Ti Lian She', 'HEALTH ENDOWMENT FUND', 'Macedonia Bible-Presbyterian Church', 'Geylang New Testament Church', 'PUNGGOL SHORE CCC COMMUNITY DEVELOPMENT AND WELFARE FUND', 'SMA CARE LIMITED', 'Asian Christian Training Centre', 'SGH CARDIOLOGY RESEARCH FUND', 'Tampines Arts Troupe', 'Buddhist Enlightenment Haven', 'SINGAPORE MODERN PENTATHLON ASSOCIATION', 'Hindu Centre', 'Hua Teck Siang Tng', 'ADAM SCOTT FOUNDATION (ASIA) LIMITED', 'Peace Home Fellowship', 'Channel Marker Evangelism Church', 'Local Church (Singapore)', 'Mou Shan Tin Yam Meditation Altar', \"TRINITY ANNUAL CONFERENCE WOMEN'S SOCIETY OF CHRISTIAN SERVICE\", 'TOONG CHAI PRESBYTERIAN CHURCH', 'EURASIAN ASSOCIATION ENDOWMENT FUND', 'SHRIMAD RAJCHANDRA MISSION DHARAMPUR (SINGAPORE) LTD.', 'National Safety Council of Singapore, The', 'SINGAPORE-INDIA PARTNERSHIP FOUNDATION', 'NULIFE CARE & COUNSELLING SERVICES LIMITED', 'Sikh Sewaks Singapore', 'Budhi Meditation Buddhist Association', 'NEE SOON CENTRAL CCC COMMUNITY DEVELOPMENT AND WELFARE FUND', 'MY COMMUNITY LIMITED', 'Bochasanwasi Shree Akshar Purushottam Swaminarayan Sanstha (Singapore)', 'ENDOCRINE & METABOLIC SOCIETY OF SINGAPORE RESEARCH FUND', 'IC@RE HUB LTD.', 'THE GRACE FOUNDATION, BY DRS MICHAEL AND PEGGY TAN LTD.', 'ZHENGHUA CCC COMMUNITY DEVELOPMENT AND WELFARE FUND', 'SING LIT STATION LIMITED', 'Nyingmapa (Buddhist) Meditation Centre', 'THREE LEGS GOOD', 'Chiam See Tong Sports Fund', 'BOWLS SINGAPORE', 'HCA HOSPICE LIMITED', 'HIAP TIEN KENG LENG POH TIAN', 'New Life Community Church', 'ENGINEERING GOOD LTD.', 'Friends of Autism Charitable Trust', 'Singapore Buddhist Federation, The', 'LITTLE FLOCK INTERNATIONAL CHURCH LIMITED', 'PASIR RIS EAST CCC COMMUNITY DEVELOPMENT AND WELFARE FUND', 'In Him Church', 'SIGLAP CCC COMMUNITY DEVELOPMENT AND WELFARE FUND', 'Wing Tai Foundation', 'FULLERTON HEALTH FOUNDATION LIMITED', 'TABLE TENNIS FOR GOOD LIMITED', 'TRUST FUND OF THE CLEFT LIP AND PALATE ASSN OF SINGAPORE (CLAPAS), THE', 'Centre for a Responsible Future', 'Interserve Singapore', 'SINGAPORE MARITIME FOUNDATION', 'CATHOLIC FAMILY LIFE LIMITED', 'Thian Leng Chong Toh Tong', 'Phoh Teck Siang Tng', 'UNCHAINED-SE LIMITED', 'SSP Financial Assistance Fund', 'BUKIT PANJANG CCC COMMUNITY DEVELOPMENT AND WELFARE FUND', '21C GIRLS LTD.', 'APSN EDUCATION SERVICES LTD.', 'Sian Keng Tong Temple', 'SHENTON CHARITABLE COMPANY LIMITED', 'THE BRETHREN CHAPEL, LTD', 'VENERABLE SECK HONG CHOON MEMORIAL FOUNDATION', 'NG CHWEE CHENG FOUNDATION LIMITED', \"THE LOCAL SPIRITUAL ASSEMBLY O F THE BAHA'IS OF QUEENSTOWN LTD\", 'COLLEGE OF DENTAL SURGEONS, SINGAPORE', 'Hoo Leong Keong Temple', 'CIRCLE OF FRIENDS LIMITED', 'AWWA LTD.', 'Joyful Charity', 'Society of the Infant Jesus (Singapore)', 'Singapore DanceSport Federation', 'SINGAPORE KARATE-DO FEDERATION', 'Sam Ann Temple Association', 'A DAY WITH MARY', 'Sera Jey (Singapore) Buddhist Centre', 'SINGYOUTH HUB', 'Design Society, The', 'Kim Chuan Whuap Tuah Temple, The', 'ROTARY CLUB OF SENTOSA CHARITY LIMITED', 'Evangelism Equipping Mission (Singapore)', 'SINGAPORE GUJARATI SCHOOL LIMITED', 'SOON HONG KEE SCHOLARSHIP TRUST FUND', \"SING'THEATRE LTD.\", 'Gospel Baptist Church', 'Nan Dao Tian Xin Dong Association', 'COLLEGE OF RADIOLOGISTS, SINGAPORE', 'THE PHILHARMONIC WINDS (SINGAPORE) LTD.', 'TAN KAH KEE FOUNDATION', 'Fook Tet Soo Hakka Temple', 'Bible-Presbyterian Welfare Services, Singapore', 'SHEKINAH HARVEST CHURCH', 'Third Culture Kids Care Fellowship', 'K9ASSISTANCE (LIMITED)', 'SCHOLASTIC ENVIRONMENT FUND LTD.', 'TOA PAYOH TAMIL METHODIST CHURCH (ETAC)', 'YMCA Shine', 'HELPING JOY LTD.', 'HIRA SOCIETY', 'Gratia Dei Sola Media', 'Sree Gnianananda Seva Samajam', 'Palyul Nyingma Buddhist Association', 'Revival Centre Church', 'Wu Hong Yan Kong Temple', 'LIFE! COMMUNITY DEVELOPMENT LTD.', 'The Derek Hewett Foundation 2009', 'The Music Society, Singapore', 'PROJECT SMILE LIMITED', \"THE LOCAL SPIRITUAL ASSEMBLY O F THE BAHA'IS OF KATONG LTD\", 'LIFELINK CHRISTIAN CHURCH', 'TAMPINES NORTH CCC COMMUNITY DEVELOPMENT AND WELFARE FUND', 'THE GREENHOUSE COMMUNITY SERVICES LTD.', 'DR TOH CHIN CHYE BENEVOLENT FUND FOR THE AGED', 'HOON LENG YIE (TEMPLE) LTD', 'X-Pact Society', 'Grace Communion Church', 'THE COURAGE FUND LIMITED', 'CHILDCARE AND CHILDREN FUND,THE', 'Deaf and Hard-of-Hearing Federation (Singapore)', 'Leong Nam Temple', 'LIFE EDU SERVICES LTD.', 'SG CARING HEART LIMITED', 'Huria Kristen Batak Protestant (Batak Christian Protestant) Singapore', 'Hin Ann Thain Hiaw Keng', '#CHECKED LIMITED', 'Glad Tidings Gateway', 'THE VERY QUIET STUDIO LIMITED', 'CARLO CATHOLIC SERVICES LTD.', 'Singapore Rollersports Federation', 'Xing Guang Shan Sangha Mission', 'raiSE Development Fund Trust Deed', 'FAMILY LIFE FIRST', 'SIAN HENG TNG TEMPLE', 'Jesus Reigns Church', 'Zonta Singapore- Project Pari Fund', 'ROTARY STUDENTS LOAN TRUST FUND', 'Pu Xian Buddhist Society', 'HOUGANG CONSTITUENCY EDUCATION TRUST', 'ABDULLAH SALEH SHOOKER TRUST', 'PETRA COMMUNITY LTD.', 'Kuah Na Keng Temple Association', 'PSALT CARE LIMITED', 'Yu Feng Zhi Fu Cai Bo Xing Jun Miao', 'BEAUTIFUL MIND CHARITY', 'MR & MRS R JUMABHOY CHARITY  TRUST', 'Pak Leng Guard Seow Tian', 'Glory Centre', 'Hoon Hong Tian Haw Boo (Yun Feng Tian Hou Miao)', 'CASHEW CCC COMMUNITY DEVELOPMENT AND WELFARE FUND', 'Singapore Association for the Advancement of Science (SAAS)'}\n",
      "列表1有列表2没有的元素： {'Eden Community Services Centre', 'UMAR PULAVAR SCHOLARSHIP TRUST FUND', 'Sathya Sai Mission (Singapore)', 'THE ELLA DOROTHY WEARNE TRUST FUND', 'SCAB LIMITED', 'RISE COMMUNITY LIMITED', 'See Thian Foh Combined Temple', 'EVERCARE WELFARE CENTRE', 'MEE TOH FOUNDATION LIMITED', 'LOTUS LIFE FOUNDATION LIMITED', 'Federation of Youth Clubs, Singapore', 'SEMBAWANG WEST CCC COMMUNITY DEVELOPMENT AND WELFARE FUND', 'CURIOUS THOUGHTS GIVING LIMITED', 'Domestic Employees Welfare Fund', 'JAMES RAPER TRUST FUND', 'AMBULANCE WISH (SINGAPORE) LTD.', 'The Stephen A. Schwarzman Scholars Trust', 'Punggol West CCC Community Development and Welfare Fund', 'Sports Boules Singapore', 'LIN XIAO DIAN CHARITY SOCIETY', 'INTERNATIONAL CHINESE CULTURE EXCHANGE FEDERATION LIMITED', 'RADHA MADHAV SATSANG', 'TAI KAK SEAH TEMPLE', 'Tuan Kong Beo (Teochew) Temple', 'Dermatological Society of Singapore', 'Life Spring Community Network', 'SENGKANG EAST CCC COMMUNITY DEVELOPMENT AND WELFARE FUND', 'Family Enrichment Society', 'CHOU SING CHU FOUNDATION', 'ISLAMIC DEVELOPMENT BANK EDUCATION TRUST', 'SPOT ART LIMITED', 'CHINESE CULTURAL ASSOCIATION', 'SOULRICH FOUNDATION LTD.', 'Living Streams Christian Church', 'Singapore Chin Leng Keng, The', 'TAMPINES CHANGKAT CCC COMMUNITY DEVELOPMENT AND WELFARE FUND', 'Singapore Ayyappa Seva Sangham', 'CHRISTIAN SCIENCE SOCIETY, SINGAPORE', 'SEMBAWANG CENTRAL CCC COMMUNITY DEVELOPMENT AND WELFARE FUND', \"ST. JOSEPH'S INSTITUTION PHILANTHROPIC FUND FOR THE LASALLIAN MISSION LTD.\", 'KEAT HONG CCC COMMUNITY DEVELOPMENT AND WELFARE FUND', 'INTERNATIONAL RICE RESEARCH INSTITUTE FUND LTD.', 'Singapore Eye Foundation', 'HEAN THUAN TOH TONG', \"D'ARTISTES\", 'CENTER FOR LIFE ENRICHMENT LTD', 'Punggol Coast CCC Community Development and Welfare Fund', 'KAMPONG CHAI CHEE CCC COMMUNITY DEVELOPMENT AND WELFARE FUND', \"Caregivers' Association of the Mentally-ill (CAMI)\", 'Bible Evangelism Church', 'Lian Huay Temple', 'CHRISTIAN COUNSELLING SERVICES', 'Gerontological Society', 'THALASSAEMIA SOCIETY (SINGAPORE)', 'WIRa Association', 'CAREERCONSORTIA LIMITED', 'MAJOR JOHN LONG TRUST FUND', \"ST ANDREW'S CATHEDRAL CENTENARY TRUST\", 'Sze Cheng Keng Chinese Temple', 'COLLEGE OF PAEDIATRICS AND CHILD HEALTH, SINGAPORE', 'Gang Tian Da Di Association', 'Endocrine and Metabolic Society of Singapore', 'Qutbi Charitable and Religious Society (Singapore)', 'Hock Leng Keng Temple', 'Church of Christ, North-East', 'Tien Kong Thun Temple', 'SALT AND LIGHT GOSPEL MISSION', 'Legion of Mary, The', 'MAJULAH COMMUNITY LIMITED', 'Student Volunteer Corps (Singapore) (SVC)', 'LIAN CHEE KEK BUDDHIST TEMPLE', 'Society of Love and Compassion', 'DHC HOPE FOUNDATION LTD.', 'LIVE FOR ETERNITY CHURCH LTD.', 'KAI SAN TEMPLE ASSOCIATION', 'SOURCE OF LIGHT SOCIETY (SINGAPORE)', 'Wu Tai Shan Buddhist Temple', 'COMPASS LIFE', 'SUN YAT SEN NANYANG MEMORIAL HALL COMPANY LIMITED', 'United Indian Muslim Association', 'HYFY LIMITED', 'AGORA@WESTCOASTPLAZA LTD.', 'PERCY ALEXANDER BULBROOK CHARITABLE TRUST', 'YYD EDUCATION CENTRE LIMITED', 'KAM KWONG CHRISTIAN CHURCH', 'Mistri Trust Fund', 'POTONG PASIR CCC COMMUNITY DEVELOPMENT AND WELFARE FUND', 'HUG COMMUNITY SERVICES LIMITED', 'BUONA VISTA CCC COMMUNITY DEVELOPMENT AND WELFARE FUND', 'DEAF SPORTS ASSOCIATION (SINGAPORE)', 'Singapore Association for the Study of Obesity', 'TABERNACLE OF HOLINESS CHURCH LIMITED', 'God@Work', 'Yi Do An Chinese Temple', 'FRANCISCAN MISSIONARIES OF MARY', 'Festival of Praise Fellowship', 'FLUTE ASSOCIATION SINGAPORE', 'HOUGANG CCC COMMUNITY DEVELOPMENT AND WELFARE FUND', 'Serangoon CCC Community Development and Welfare Fund', 'BABSEACLE SINGAPORE LTD.', 'CHERN NAM KONG SIEW TEMPLE', 'EXCLUSIVELY MONGRELS LIMITED', 'THE PURPLE PARADE LTD.', 'Samadhi Buddhist Society', 'TAMPINES CENTRAL CCC COMMUNITY DEVELOPMENT AND WELFARE FUND', '1987 SICC ANNIVERSARY SCHOLARSHIP FUND', 'HUMAN GENOME ORGANISATION (HUGO) INTERNATIONAL LTD.', 'Tiow Hoon Tien Chinese Temple', \"CROHN'S & COLITIS SOCIETY OF SINGAPORE\", 'Tian Gong Tan Temple', \"Breastfeeding Mothers' Support Group (Singapore)\", 'BLESS COMMUNITY SERVICES', 'Kew Ong Yah Temple (Upper Serangoon)', 'LIVE TO LOVE (SINGAPORE) LIMITED', 'Si Dao Feng Jiao Temple', 'Siddhartha Centre', 'THE TADA TETSUYA SHUSHIN FOUNDATION', 'University Staff Christian Fellowship', 'KUO PAO KUN FOUNDATION LIMITED', 'CHONG HOCK TONG', 'KWSH FOUNDATION LIMITED', 'CHEOW LENG BEO TEMPLE', 'ONERHT FOUNDATION LTD.', 'ZI JING CULTURAL CENTRE LTD.', 'Taman Bacaan Pemuda Pemudi Melayu Singapura (Singapore Malay Youth Library Association)', 'BGR INTERNATIONAL', 'My Community', 'Cheo Teik Temple', 'National Foundation for Digestive Diseases', 'Christ Tabernacle', 'Sakyadhita (Daughters of the Buddha)', 'MUSLIMIN TRUST FUND ASSOCIATION BURIAL FUND', 'Singapore Chinese Buddhist Association, The', 'PRISON FELLOWSHIP INTERNATIONAL AT SINGAPORE LTD.', 'JOHN MEAD DANCE COMPANY LTD.', 'CLEMENTI CCC COMMUNITY DEVELOPMENT AND WELFARE FUND', 'COLLEGE OF OBSTETRICIANS AND GYNAECOLOGISTS, SINGAPORE', 'A. O. ACTION LOVE LTD.', 'Jen Chen Buddhism Centre', 'Sri Sathya Sai Baba Service Centre', \"YOUNG MUSICIANS' SOCIETY LTD\", 'SAJJAD FOUNDATION LIMITED', 'ASHOKA : INNOVATORS FOR THE PUBLIC (SINGAPORE) LIMITED', 'ASTHMA AND ALLERGY ASSOCIATION', 'Lawn Bowls Association for the Disabled (Singapore)', 'House of the Lord Church', 'OASIS SECOND CHANCE ANIMAL SHELTER LTD.', 'Church Alive Ministries l.k.a Shalom Gospel Hall', 'CAMBRIDGE COLLEGES SCHOLARSHIPS (SINGAPORE) LTD.', 'BUKIT TIMAH CCC COMMUNITY DEVELOPMENT AND WELFARE FUND', 'Singapore American Community Action Council, The', 'Federation of Art Societies, Singapore', 'Cornerstone Restoration Centre', 'S C Wong Foundation Trust', 'Sree Jadaah Muneeswarar Temple', 'Seventy Times Seven', 'Tien Teck Po Yuan Tong', 'LIVING WAY SOCIAL SERVICES LTD.', 'BEDOK RESERVIOR-PUNGGOL CCC COMMUNITY DEVELOPMENT AND WELFARE FUND', 'Abundant Life Bible-Presbyterian Church', 'Lejia Society', 'ACCESS HEALTH INTERNATIONAL SOUTHEAST ASIA LIMITED', 'SINGAPORE EPILEPSY FOUNDATION', 'JLU GLOBAL LTD.', 'Kim Keat Christian Church', 'WORLD-IN-THEATRE LTD.', 'Ann Jin Kiong', 'CHUA CHU KANG CCC COMMUNITY DEVELOPMENT AND WELFARE FUND', 'THE WAN BOO SOW CHARITY FUND LIMITED', 'FAITH CHARITY TRUST,THE', 'Free Christian Church of Singapore, The', 'OPERAVIVA LIMITED', 'The Evolution', 'Grace Fellowship', 'Beeh Low See Temple', 'CENTRAL SIKH GURDWARA BOARD', 'Church of Victory', 'BAROQUE ARTS IN ASIA LTD.', 'MARINE PARADE CCC COMMUNITY DEVELOPMENT AND WELFARE FUND', 'CHEW HUA SENG FOUNDATION LIMITED', 'Sembawang Seng Pang Keng', 'LA SALLE CENTRE (LIMITED)', 'SAWL SCHOLARSHIP FUND', 'SALT & LIGHT FOUNDATION', 'Long Xian Shan Gong Temple', 'FELLOWSHIP OF CHRISTIAN ATHLETES SINGAPORE LIMITED', 'CHANGE COMMUNITY SERVICES LIMITED', 'Friends of the Disabled Society', 'PLATFORM PROJECTS LTD.', 'Tian Kong & Woo Looi Ban Tin To Suay Temple', 'THE UNIVERSITY OF CHICAGO BOOTH SCHOOL OF BUSINESS', 'COMMUNITY CONCERN SERVICES', 'Pu Ti Lian She', 'HEALTH ENDOWMENT FUND', 'PUNGGOL SHORE CCC COMMUNITY DEVELOPMENT AND WELFARE FUND', 'Hindu Centre', 'Hua Teck Siang Tng', 'Peace Home Fellowship', 'Channel Marker Evangelism Church', 'Mou Shan Tin Yam Meditation Altar', \"TRINITY ANNUAL CONFERENCE WOMEN'S SOCIETY OF CHRISTIAN SERVICE\", 'National Safety Council of Singapore, The', 'Sikh Sewaks Singapore', 'Budhi Meditation Buddhist Association', 'Chiam See Tong Sports Fund', 'ENGINEERING GOOD LTD.', 'Singapore Buddhist Federation, The', 'PASIR RIS EAST CCC COMMUNITY DEVELOPMENT AND WELFARE FUND', 'In Him Church', 'SIGLAP CCC COMMUNITY DEVELOPMENT AND WELFARE FUND', 'FULLERTON HEALTH FOUNDATION LIMITED', 'Centre for a Responsible Future', 'Thian Leng Chong Toh Tong', 'Phoh Teck Siang Tng', 'SSP Financial Assistance Fund', 'BUKIT PANJANG CCC COMMUNITY DEVELOPMENT AND WELFARE FUND', '21C GIRLS LTD.', 'THE BRETHREN CHAPEL, LTD', 'VENERABLE SECK HONG CHOON MEMORIAL FOUNDATION', 'NG CHWEE CHENG FOUNDATION LIMITED', 'Hoo Leong Keong Temple', 'SINGAPORE KARATE-DO FEDERATION', 'Sam Ann Temple Association', 'A DAY WITH MARY', 'Sera Jey (Singapore) Buddhist Centre', 'SINGYOUTH HUB', 'Design Society, The', 'Kim Chuan Whuap Tuah Temple, The', 'ROTARY CLUB OF SENTOSA CHARITY LIMITED', 'SINGAPORE GUJARATI SCHOOL LIMITED', 'SOON HONG KEE SCHOLARSHIP TRUST FUND', 'COLLEGE OF RADIOLOGISTS, SINGAPORE', 'THE PHILHARMONIC WINDS (SINGAPORE) LTD.', 'Fook Tet Soo Hakka Temple', 'SHEKINAH HARVEST CHURCH', 'K9ASSISTANCE (LIMITED)', 'SCHOLASTIC ENVIRONMENT FUND LTD.', 'TOA PAYOH TAMIL METHODIST CHURCH (ETAC)', 'YMCA Shine', 'Wu Hong Yan Kong Temple', 'The Music Society, Singapore', 'DR TOH CHIN CHYE BENEVOLENT FUND FOR THE AGED', 'X-Pact Society', 'Grace Communion Church', 'THE COURAGE FUND LIMITED', 'LIFE EDU SERVICES LTD.', 'SG CARING HEART LIMITED', 'Huria Kristen Batak Protestant (Batak Christian Protestant) Singapore', 'Glad Tidings Gateway', 'Xing Guang Shan Sangha Mission', 'FAMILY LIFE FIRST', 'SIAN HENG TNG TEMPLE', 'Zonta Singapore- Project Pari Fund', 'HOUGANG CONSTITUENCY EDUCATION TRUST', 'Kuah Na Keng Temple Association', 'MR & MRS R JUMABHOY CHARITY  TRUST', 'Glory Centre', 'Hoon Hong Tian Haw Boo (Yun Feng Tian Hou Miao)', 'CASHEW CCC COMMUNITY DEVELOPMENT AND WELFARE FUND', \"NEW REDEEMER'S FELLOWSHIP SOCIETY\", 'Sing Man Temple (Singapore)', 'EVANGELICAL ALLIANCE OF SINGAPORE LTD.', 'T.H.E. Buddhist Nunnery', 'CANBERRA CCC COMMUNITY DEVELOPMENT AND WELFARE FUND', 'BOP HUB LTD.', 'Varsity Christian Fellowship, Singapore, The', 'YOUTHWORKS LTD.', 'MATAMPATH KOCHUNNI NAYAR MEMORIAL FUND', 'EMANCIPASIA LTD.', \"Shepherd's Assembly\", 'EUNOS CCC COMMUNITY DEVELOPMENT AND WELFARE FUND', 'Jump Rope Federation (Singapore)', 'Operation Renewal (Singapore)', 'Triumphs Of His Grace', 'CHURCH OF CHRIST THE ROCK', 'Concern & Care Society', 'JAMES CRAIG FUND', 'MIT CLUB OF SINGAPORE SCHOLARSHIP FUND', 'THE SINGAPORE YOUTH CHOIR LTD', 'CHANGI SIMEI CCC COMMUNITY DEVELOPMENT AND WELFARE FUND', 'KAKI BUKIT CCC COMMUNITY DEVELOPMENT AND WELFARE FUND', \"CRESCENT GIRLS' SCHOOL ALUMNAE ASSOCIATION TRUST FUND\", 'Agape Counselling and Training Centre', 'Catholic Prayer Society', 'HAPPY ARTS ENTERPRISE LTD.', 'THE WP COMMUNITY FUND', 'CONGRESS TRUST FUND OF THE OBSTETRICAL AND GYNAECOLOGICAL SOCIETY OF SINGAPORE', 'Philos Assembly of God', 'PIONEER CCC COMMUNITY DEVELOPMENT AND WELFARE FUND', 'Chee Tong Temple', 'MOULMEIN-CAIRNHILL CCC COMMUNITY DEVELOPMENT AND WELFARE FUND', 'National Arts Council', 'Jen Chen Buddhist Blissful Culture Centre', 'PROJECT PEACE COMMUNITY CARE OUTREACH LIMITED', 'Hwa Kwang Tai Tee Temple', 'Grace Bible Church', 'Sengkang Central CCC Community Development and Welfare Fund', 'Wai San Buddhist Society, Singapore', 'Society for the Promotion of Attention Deficit Hyperactivity Disorder Research and Knowledge', 'SINGAPORE POCKET OPERA THEATRE LIMITED', 'BLC COMMUNITY SERVICES LTD.', 'SINGAPORE BIBLE COLLEGE', 'Cheng Kak Si', 'Choa Chu Kang Yew Tee Chun Lian He Miow', 'Poh Tiong Kiong Temple', 'Chinese Church Union (Singapore)', 'GLAXOSMITHKLINE-EDB HRD FUND', 'GEYLANG SERAI CCC COMMUNITY DEVELOPMENT AND WELFARE FUND', 'THE HAGUE INTERNATIONAL MODEL UNITED NATIONS LIMITED', 'Culture Regeneration Research Society', 'Chin Long Kong Temple', 'Buddha Dhamma Mandala Society', 'SERANGOON CCC COMMUNITY DEVELOPMENT AND WELFARE FUND', 'TANJONG PAGAR-TIONG BAHRU CCC COMMUNITY DEVELOPMENT AND WELFARE FUND', \"EST OF R M MEYER DEC'D TALMUD TORAH TRUST FUND\", 'Poh Chung Tian Chor Sian Tong', 'NNI HEALTH ENDOWMENT FUND', 'Glory Centre Community Services Association', 'Netherlands Charity Association, The', 'Peace Community Chapel', \"Singapore Nurses' Christian Fellowship\", 'HUMPHREY OEI FOUNDATION LIMITED', 'Helpful Care Group', 'NATIONAL HEALTHCARE GROUP FUND', 'SINGAPORE MANUFACTURING FEDERATION EDUCATION AND TRAINING FUND', 'APSN LTD.', 'Caring for Cambodia Fund', \"EMMANUEL TAMIL ANNUAL CONFERENCE WOMEN'S SOCIETY OF CHRISTIAN SERVICE\", 'Charitable Assistance Society', 'BAPTIST FELLOWSHIP CHURCH LIMITED', 'Singapore Boxing Federation', 'BRAIN TUMOUR SOCIETY (SINGAPORE) LIMITED', 'Aglow International (Singapore)', 'DR. OON CHIEW SENG TRUST LIMITED', 'CHRISTIAN CARE SERVICES (SINGAPORE)', 'PACTA ASIA LIMITED', 'TANG RENAISSANCE', 'General Board of True Jesus Mission', 'Osteoporosis Society (Singapore)', 'Koon Teck Tng', 'EST OF DOO GEE LILY ALSO KNOWN AS LILY GEE DOO DECEASED', \"SOCIETY FOR MEN'S HEALTH (SINGAPORE)\", 'Tan Kah Kee International Society', 'Fung Huo Yuan Temple', 'GENERAL WELFARE FUND', 'Chee Hia Kog Moral Society', 'THE SILVER LINING COMMUNITY SERVICES LTD.', 'ACADEMY OF ENGINEERING, SINGAPORE', 'Hoon Sian Keng Temple, The', 'Grace Christian Centre', 'ONE (SINGAPORE)', 'DAS INTERNATIONAL SERVICES LTD.', 'SINGAPORE ASSOCIATION FOR CONTINUING EDUCATION, THE', 'Singapore National Academy Of Science', 'Lotus Sutra Buddhist Association', 'CHRISTIAN PAROUSIA FELLOWSHIP (SINGAPORE)', 'Welcare Student Care Centre', \"St Luke's Society for the Elderly\", 'New Horizon Music Society', 'Church in Missions Association', 'ARK, THE', 'ARC LEARNING ACADEMY LTD.', 'WHEELCHAIR RUGBY LIMITED', 'Eckankar Satsang Singapore', 'Blossom World Society', 'FOMOS LTD.', 'MOUNTBATTEN CCC COMMUNITY DEVELOPMENT AND WELFARE FUND', 'Singapore Arts Federation, The', 'SHIRDI SAI WORSHIP CENTRE LTD.', 'SINGAPORE ASSOCIATION OF THE SOVEREIGN MILITARY HOSPITALLER ORDER OF ST. JOHN OF JERUSALEM', \"EST OF R M MEYER DEC'D SYNAGOGUE TRUST FUND\", 'Chartered Institute of Logistics and Transport, Singapore, The', 'INTERNATIONAL CHURCH OF THE FOURSQUARE GOSPEL (SINGAPORE) LTD.', 'Society Against Family Violence', 'Lam Hai Poh Toh San', 'Leng Hok San Hian Leng Temple Tian Se Tao Chiao', 'Singapore Hindu Sabai, The', 'EMPOWER AGEING LIMITED', 'Sri Sathya Sai Prema Nilayam', 'Christian Ekklesia', 'House of Prayer, The', 'TRI SECTOR CHARITY CONSULTANTS LTD.', 'LOVE, NILS LTD.', 'TAN JOO KEE SCHOLARSHIP FUND', 'Lord Buddha Temple', 'Light and Love Charity', 'Singapore Planned Families Association', 'Helping and Empowering our Neighbours (HEN)', 'ULU PANDAN CCC COMMUNITY DEVELOPMENT AND WELFARE FUND', 'Hong San Si Temple Society', 'Singapore Dental Health Foundation', 'Gospel Light Bible- Presbyterian Church', 'LIEN AID LIMITED', 'WORLD FUTURE FOUNDATION LTD.', 'GUI CI MAITREYA ASSOCIATION', 'Adventist Community Services', 'NGEE ANN CULTURAL CENTRE LIMITED', 'Chin Fook Meow', 'SG SERVE LTD.', 'LIFELINE HARVEST CHURCH', 'Bethany Emmanuel Church', 'YOUTH GOLF NETWORK LTD.', 'Sri Krishna Mandir Welfare Society', 'MRS LIM CHUAN HOE SCHOLARSHIP FUND', 'Ruwan Buddhist Society', 'COMMUNITY CULTURAL DEVELOPMENT (SINGAPORE) LTD.', 'Toa Payoh West-Thomson CCC Community Development and Welfare Fund', 'FAH SI LAM BUDDHIST TEMPLE', 'Qing Yun Meow', 'Jubilee Assembly of God', 'Kang Ming Free Clinic', 'CHOW TAI FOOK CHARITY FOUNDATION (SINGAPORE) LIMITED', 'SCIENCE CENTRE BOARD ENDOWMENT FUND', 'LIMITLESS (LTD.)', 'Aoxiang Counselling Service', 'GOOD GIFTS CITY CHURCH', 'Chin Khong Kow Poon Guan San Toh Tong', 'COLLEGE OF ANAESTHESIOLOGISTS, SINGAPORE', 'Lupus Association (Singapore)', 'Macedonia Bible-Presbyterian Church', 'Geylang New Testament Church', 'SMA CARE LIMITED', 'Asian Christian Training Centre', 'SGH CARDIOLOGY RESEARCH FUND', 'Tampines Arts Troupe', 'Buddhist Enlightenment Haven', 'SINGAPORE MODERN PENTATHLON ASSOCIATION', 'ADAM SCOTT FOUNDATION (ASIA) LIMITED', 'Local Church (Singapore)', 'TOONG CHAI PRESBYTERIAN CHURCH', 'EURASIAN ASSOCIATION ENDOWMENT FUND', 'SHRIMAD RAJCHANDRA MISSION DHARAMPUR (SINGAPORE) LTD.', 'SINGAPORE-INDIA PARTNERSHIP FOUNDATION', 'NULIFE CARE & COUNSELLING SERVICES LIMITED', 'NEE SOON CENTRAL CCC COMMUNITY DEVELOPMENT AND WELFARE FUND', 'MY COMMUNITY LIMITED', 'Bochasanwasi Shree Akshar Purushottam Swaminarayan Sanstha (Singapore)', 'ENDOCRINE & METABOLIC SOCIETY OF SINGAPORE RESEARCH FUND', 'IC@RE HUB LTD.', 'ZHENGHUA CCC COMMUNITY DEVELOPMENT AND WELFARE FUND', 'SING LIT STATION LIMITED', 'Nyingmapa (Buddhist) Meditation Centre', 'THREE LEGS GOOD', 'BOWLS SINGAPORE', 'HCA HOSPICE LIMITED', 'HIAP TIEN KENG LENG POH TIAN', 'Friends of Autism Charitable Trust', 'LITTLE FLOCK INTERNATIONAL CHURCH LIMITED', 'TABLE TENNIS FOR GOOD LIMITED', 'TRUST FUND OF THE CLEFT LIP AND PALATE ASSN OF SINGAPORE (CLAPAS), THE', 'Interserve Singapore', 'CATHOLIC FAMILY LIFE LIMITED', 'UNCHAINED-SE LIMITED', 'APSN EDUCATION SERVICES LTD.', 'Sian Keng Tong Temple', \"THE LOCAL SPIRITUAL ASSEMBLY O F THE BAHA'IS OF QUEENSTOWN LTD\", 'CIRCLE OF FRIENDS LIMITED', 'Joyful Charity', 'Society of the Infant Jesus (Singapore)', 'Singapore DanceSport Federation', 'Evangelism Equipping Mission (Singapore)', \"SING'THEATRE LTD.\", 'Gospel Baptist Church', 'Nan Dao Tian Xin Dong Association', 'TAN KAH KEE FOUNDATION', 'Bible-Presbyterian Welfare Services, Singapore', 'Third Culture Kids Care Fellowship', 'HELPING JOY LTD.', 'HIRA SOCIETY', 'Gratia Dei Sola Media', 'Sree Gnianananda Seva Samajam', 'Palyul Nyingma Buddhist Association', 'Revival Centre Church', 'LIFE! COMMUNITY DEVELOPMENT LTD.', 'The Derek Hewett Foundation 2009', 'PROJECT SMILE LIMITED', \"THE LOCAL SPIRITUAL ASSEMBLY O F THE BAHA'IS OF KATONG LTD\", 'LIFELINK CHRISTIAN CHURCH', 'TAMPINES NORTH CCC COMMUNITY DEVELOPMENT AND WELFARE FUND', 'THE GREENHOUSE COMMUNITY SERVICES LTD.', 'HOON LENG YIE (TEMPLE) LTD', 'CHILDCARE AND CHILDREN FUND,THE', 'Deaf and Hard-of-Hearing Federation (Singapore)', 'Leong Nam Temple', 'Hin Ann Thain Hiaw Keng', '#CHECKED LIMITED', 'THE VERY QUIET STUDIO LIMITED', 'CARLO CATHOLIC SERVICES LTD.', 'Singapore Rollersports Federation', 'Jesus Reigns Church', 'ROTARY STUDENTS LOAN TRUST FUND', 'Pu Xian Buddhist Society', 'ABDULLAH SALEH SHOOKER TRUST', 'PSALT CARE LIMITED', 'Yu Feng Zhi Fu Cai Bo Xing Jun Miao', 'BEAUTIFUL MIND CHARITY', 'Pak Leng Guard Seow Tian', 'Promisedland Evangelical Centre', 'COLLEGE OF DENTAL SURGEONS, SINGAPORE', 'Singapore Association for the Advancement of Science (SAAS)'} 列表1有列表2没有的元素个数： 500\n",
      "列表1没有列表2有的元素： {'GOH KENG SWEE FOUNDATION LTD.', 'THE GRACE FOUNDATION, BY DRS MICHAEL AND PEGGY TAN LTD.', 'NANYANG KINDERGARTEN 51 CORONATION ROAD BUILDING FUND', 'Crowd Fellowship', 'Charis Centre', \"BOYS' TOWN, SINGAPORE\", 'The GZ Charitable Trust', 'New Life Community Church', 'HOMELESS HEARTS (LTD.)', 'Shri Ram Chandra Mission', \"BOYS' TOWN\", 'Wing Tai Foundation', 'Singapore Ski & Snowboard Association', 'CHANGI FOUNDATION LIMITED', 'MORNING STAR COMMUNITY SERVICES LTD.', 'Dharma Drum (Singapore)', 'Sri Sathya Sai Society, Singapore', 'AGAPE METHODIST CHURCH', 'SINGAPORE MARITIME FOUNDATION', 'LEE KIM TAH FOUNDATION', 'NANYANG KINDERGARTEN 118 CAMPUS BUILDING FUND', 'Y.W.C.A. PRESCHOOL LTD.', 'CFL Lumens Trust', 'GREENSG COLLAB LTD.', 'Conservation International Singapore Conservation Trust', 'Pu Ji Si Buddhist Research Centre', 'NATIONAL SKIN CENTRE HEALTH ENDOWMENT FUND', 'SHENTON CHARITABLE COMPANY LIMITED', 'raiSE Development Fund Trust Deed', 'AWWA LTD.', 'JAZZ ASSOCIATION (SINGAPORE)', 'PETRA COMMUNITY LTD.', 'NALANDA LIBRARY FUND LIMITED', 'PEI HWA FOUNDATION LIMITED', 'NATIONAL CADET CORPS TRAINING AND WELFARE RESERVE FUND', 'WONDERLABS FOUNDATION LTD.'} 列表1没有列表2有的元素个数： 36\n"
     ]
    }
   ],
   "source": [
    "same,dif,alone_forward,alone_backward = same_element(Data_0_50k['Name of Organisation'], Data_0['Name of Organisation'])\n",
    "print('相同元素个数：',len(same),  '\\n相同的元素：',same)\n",
    "print('不相同的元素个数：',len(dif), '\\n不同的元素：',dif)\n",
    "print('列表1有列表2没有的元素：',alone_forward,'列表1有列表2没有的元素个数：',len(alone_forward))\n",
    "print('列表1没有列表2有的元素：',alone_backward,'列表1没有列表2有的元素个数：',len(alone_backward))\n"
   ]
  },
  {
   "cell_type": "code",
   "execution_count": 19,
   "metadata": {},
   "outputs": [
    {
     "data": {
      "text/plain": [
       "634"
      ]
     },
     "execution_count": 19,
     "metadata": {},
     "output_type": "execute_result"
    }
   ],
   "source": [
    "len1 = Data_0.shape[0];\n",
    "len2 = Data_0_50k.shape[0];\n",
    "Total_len = len1+len2;\n",
    "Total_len"
   ]
  },
  {
   "cell_type": "code",
   "execution_count": 20,
   "metadata": {},
   "outputs": [],
   "source": [
    "#\n",
    "#Data_0 = Data_0.set_index('Name of Organisation') \n",
    "#Data_0_50k = Data_0_50k.set_index('Name of Organisation')\n",
    "#Data_50k_200k = Data_50k_200k.set_index('Name of Organisation') \n",
    "#Data_200k_250k = Data_200k_250k.set_index('Name of Organisation')\n",
    "#Data_250k_500k = Data_250k_500k.set_index('Name of Organisation') \n",
    "#Data_500k_1m = Data_500k_1m.set_index('Name of Organisation')\n",
    "#Data_1m_5m = Data_1m_5m.set_index('Name of Organisation') \n",
    "#Data_5m_10m = Data_5m_10m.set_index('Name of Organisation')\n",
    "#Data_10m = Data_10m.set_index('Name of Organisation') "
   ]
  },
  {
   "cell_type": "code",
   "execution_count": 21,
   "metadata": {},
   "outputs": [
    {
     "data": {
      "text/plain": [
       "(634, 9)"
      ]
     },
     "execution_count": 21,
     "metadata": {},
     "output_type": "execute_result"
    }
   ],
   "source": [
    "# Directly combine two tables together\n",
    "frames = [Data_0, Data_0_50k]\n",
    "result = pd.concat(frames)\n",
    "result.shape"
   ]
  },
  {
   "cell_type": "code",
   "execution_count": 22,
   "metadata": {},
   "outputs": [
    {
     "data": {
      "text/plain": [
       "(4979, 9)"
      ]
     },
     "execution_count": 22,
     "metadata": {},
     "output_type": "execute_result"
    }
   ],
   "source": [
    "# Keep the union set\n",
    "data_frame = [Data_0, Data_0_50k, Data_50k_200k, Data_200k_250k, Data_250k_500k, Data_500k_1m, Data_1m_5m, Data_5m_10m, Data_10m]\n",
    "on_set = ['Name of Organisation']\n",
    "\n",
    "df1 = pd.concat( data_frame,  axis=0)\n",
    "df1.shape\n"
   ]
  },
  {
   "cell_type": "code",
   "execution_count": 23,
   "metadata": {},
   "outputs": [],
   "source": [
    "df1.to_csv('combined.csv', index=None)      # Without droping duplication have 4979 lines"
   ]
  },
  {
   "cell_type": "code",
   "execution_count": 24,
   "metadata": {},
   "outputs": [
    {
     "data": {
      "text/plain": [
       "(2372, 9)"
      ]
     },
     "execution_count": 24,
     "metadata": {},
     "output_type": "execute_result"
    }
   ],
   "source": [
    "df1  =  df1.drop_duplicates(subset=['UEN'], keep='last')   # droping duplication have 2368 lines, keep the last one\n",
    "\n",
    "df1.shape"
   ]
  },
  {
   "cell_type": "code",
   "execution_count": 25,
   "metadata": {},
   "outputs": [
    {
     "data": {
      "text/html": [
       "<div>\n",
       "<style scoped>\n",
       "    .dataframe tbody tr th:only-of-type {\n",
       "        vertical-align: middle;\n",
       "    }\n",
       "\n",
       "    .dataframe tbody tr th {\n",
       "        vertical-align: top;\n",
       "    }\n",
       "\n",
       "    .dataframe thead th {\n",
       "        text-align: right;\n",
       "    }\n",
       "</style>\n",
       "<table border=\"1\" class=\"dataframe\">\n",
       "  <thead>\n",
       "    <tr style=\"text-align: right;\">\n",
       "      <th></th>\n",
       "      <th>S/N</th>\n",
       "      <th>Name of Organisation</th>\n",
       "      <th>Type</th>\n",
       "      <th>UEN</th>\n",
       "      <th>IPC Period</th>\n",
       "      <th>Sector</th>\n",
       "      <th>Classification</th>\n",
       "      <th>Activities</th>\n",
       "      <th>Scale_type</th>\n",
       "    </tr>\n",
       "  </thead>\n",
       "  <tbody>\n",
       "    <tr>\n",
       "      <th>24</th>\n",
       "      <td>25</td>\n",
       "      <td>Crowd Fellowship</td>\n",
       "      <td>Deregistered</td>\n",
       "      <td>T00SS0050L</td>\n",
       "      <td>Not Applicable</td>\n",
       "      <td>Religious</td>\n",
       "      <td>Christianity</td>\n",
       "      <td>NaN</td>\n",
       "      <td>0</td>\n",
       "    </tr>\n",
       "    <tr>\n",
       "      <th>29</th>\n",
       "      <td>30</td>\n",
       "      <td>GREENSG COLLAB LTD.</td>\n",
       "      <td>Registered with IPC</td>\n",
       "      <td>202112820E</td>\n",
       "      <td>From 23/1/2023 to 22/9/2024</td>\n",
       "      <td>Others</td>\n",
       "      <td>Environment,Think Tanks</td>\n",
       "      <td>Public awareness, promotion &amp; advisory Researc...</td>\n",
       "      <td>0</td>\n",
       "    </tr>\n",
       "    <tr>\n",
       "      <th>32</th>\n",
       "      <td>33</td>\n",
       "      <td>HOMELESS HEARTS (LTD.)</td>\n",
       "      <td>Registered</td>\n",
       "      <td>201839495C</td>\n",
       "      <td>Not Applicable</td>\n",
       "      <td>Social and Welfare</td>\n",
       "      <td>Community</td>\n",
       "      <td>Financial assistance, bursaries &amp; scholarships...</td>\n",
       "      <td>0</td>\n",
       "    </tr>\n",
       "    <tr>\n",
       "      <th>43</th>\n",
       "      <td>44</td>\n",
       "      <td>NALANDA LIBRARY FUND LIMITED</td>\n",
       "      <td>Registered</td>\n",
       "      <td>201328967E</td>\n",
       "      <td>Not Applicable</td>\n",
       "      <td>Others</td>\n",
       "      <td>General Charitable Purposes</td>\n",
       "      <td>Grantmaking Training &amp; education</td>\n",
       "      <td>0</td>\n",
       "    </tr>\n",
       "    <tr>\n",
       "      <th>46</th>\n",
       "      <td>47</td>\n",
       "      <td>NATIONAL CADET CORPS TRAINING AND WELFARE RESE...</td>\n",
       "      <td>Registered</td>\n",
       "      <td>S89CC0683H</td>\n",
       "      <td>Not Applicable</td>\n",
       "      <td>Education</td>\n",
       "      <td>Uniformed Groups</td>\n",
       "      <td>NaN</td>\n",
       "      <td>0</td>\n",
       "    </tr>\n",
       "    <tr>\n",
       "      <th>...</th>\n",
       "      <td>...</td>\n",
       "      <td>...</td>\n",
       "      <td>...</td>\n",
       "      <td>...</td>\n",
       "      <td>...</td>\n",
       "      <td>...</td>\n",
       "      <td>...</td>\n",
       "      <td>...</td>\n",
       "      <td>...</td>\n",
       "    </tr>\n",
       "    <tr>\n",
       "      <th>299</th>\n",
       "      <td>300</td>\n",
       "      <td>WWF-WORLD WIDE FUND FOR NATURE (SINGAPORE) LIM...</td>\n",
       "      <td>Registered</td>\n",
       "      <td>200602275E</td>\n",
       "      <td>Not Applicable</td>\n",
       "      <td>Others</td>\n",
       "      <td>Environment</td>\n",
       "      <td>NaN</td>\n",
       "      <td>20000000</td>\n",
       "    </tr>\n",
       "    <tr>\n",
       "      <th>300</th>\n",
       "      <td>301</td>\n",
       "      <td>YAYASAN MENDAKI</td>\n",
       "      <td>Registered with IPC</td>\n",
       "      <td>198902633C</td>\n",
       "      <td>From 28/6/2019 to 27/6/2024</td>\n",
       "      <td>Others</td>\n",
       "      <td>Self-Help Groups</td>\n",
       "      <td>NaN</td>\n",
       "      <td>20000000</td>\n",
       "    </tr>\n",
       "    <tr>\n",
       "      <th>301</th>\n",
       "      <td>302</td>\n",
       "      <td>YELLOW RIBBON SINGAPORE</td>\n",
       "      <td>Exempt Charity</td>\n",
       "      <td>T08GB0049F</td>\n",
       "      <td>Not Applicable</td>\n",
       "      <td>Social and Welfare</td>\n",
       "      <td>Support Groups</td>\n",
       "      <td>Training &amp; education</td>\n",
       "      <td>20000000</td>\n",
       "    </tr>\n",
       "    <tr>\n",
       "      <th>302</th>\n",
       "      <td>303</td>\n",
       "      <td>Young Men's Christian Association of Singapore</td>\n",
       "      <td>Registered with IPC</td>\n",
       "      <td>S61SS0045E</td>\n",
       "      <td>From 01/7/2021 to 30/6/2024</td>\n",
       "      <td>Social and Welfare</td>\n",
       "      <td>Community</td>\n",
       "      <td>Public awareness, promotion &amp; advisory Financi...</td>\n",
       "      <td>20000000</td>\n",
       "    </tr>\n",
       "    <tr>\n",
       "      <th>303</th>\n",
       "      <td>304</td>\n",
       "      <td>Young Women's Christian Association of Singapore</td>\n",
       "      <td>Registered with IPC</td>\n",
       "      <td>S61SS0075J</td>\n",
       "      <td>From 01/7/2022 to 31/3/2025</td>\n",
       "      <td>Social and Welfare</td>\n",
       "      <td>Community,Disability (Adult),Disability (Child...</td>\n",
       "      <td>Direct Services Training &amp; education</td>\n",
       "      <td>20000000</td>\n",
       "    </tr>\n",
       "  </tbody>\n",
       "</table>\n",
       "<p>2372 rows × 9 columns</p>\n",
       "</div>"
      ],
      "text/plain": [
       "     S/N                               Name of Organisation  \\\n",
       "24    25                                   Crowd Fellowship   \n",
       "29    30                                GREENSG COLLAB LTD.   \n",
       "32    33                             HOMELESS HEARTS (LTD.)   \n",
       "43    44                       NALANDA LIBRARY FUND LIMITED   \n",
       "46    47  NATIONAL CADET CORPS TRAINING AND WELFARE RESE...   \n",
       "..   ...                                                ...   \n",
       "299  300  WWF-WORLD WIDE FUND FOR NATURE (SINGAPORE) LIM...   \n",
       "300  301                                    YAYASAN MENDAKI   \n",
       "301  302                            YELLOW RIBBON SINGAPORE   \n",
       "302  303     Young Men's Christian Association of Singapore   \n",
       "303  304   Young Women's Christian Association of Singapore   \n",
       "\n",
       "                    Type         UEN                   IPC Period  \\\n",
       "24          Deregistered  T00SS0050L               Not Applicable   \n",
       "29   Registered with IPC  202112820E  From 23/1/2023 to 22/9/2024   \n",
       "32            Registered  201839495C               Not Applicable   \n",
       "43            Registered  201328967E               Not Applicable   \n",
       "46            Registered  S89CC0683H               Not Applicable   \n",
       "..                   ...         ...                          ...   \n",
       "299           Registered  200602275E               Not Applicable   \n",
       "300  Registered with IPC  198902633C  From 28/6/2019 to 27/6/2024   \n",
       "301       Exempt Charity  T08GB0049F               Not Applicable   \n",
       "302  Registered with IPC  S61SS0045E  From 01/7/2021 to 30/6/2024   \n",
       "303  Registered with IPC  S61SS0075J  From 01/7/2022 to 31/3/2025   \n",
       "\n",
       "                 Sector                                     Classification  \\\n",
       "24            Religious                                       Christianity   \n",
       "29               Others                            Environment,Think Tanks   \n",
       "32   Social and Welfare                                          Community   \n",
       "43               Others                        General Charitable Purposes   \n",
       "46            Education                                   Uniformed Groups   \n",
       "..                  ...                                                ...   \n",
       "299              Others                                        Environment   \n",
       "300              Others                                   Self-Help Groups   \n",
       "301  Social and Welfare                                     Support Groups   \n",
       "302  Social and Welfare                                          Community   \n",
       "303  Social and Welfare  Community,Disability (Adult),Disability (Child...   \n",
       "\n",
       "                                            Activities  Scale_type  \n",
       "24                                                 NaN           0  \n",
       "29   Public awareness, promotion & advisory Researc...           0  \n",
       "32   Financial assistance, bursaries & scholarships...           0  \n",
       "43                    Grantmaking Training & education           0  \n",
       "46                                                 NaN           0  \n",
       "..                                                 ...         ...  \n",
       "299                                                NaN    20000000  \n",
       "300                                                NaN    20000000  \n",
       "301                               Training & education    20000000  \n",
       "302  Public awareness, promotion & advisory Financi...    20000000  \n",
       "303               Direct Services Training & education    20000000  \n",
       "\n",
       "[2372 rows x 9 columns]"
      ]
     },
     "execution_count": 25,
     "metadata": {},
     "output_type": "execute_result"
    }
   ],
   "source": [
    "df1"
   ]
  },
  {
   "cell_type": "code",
   "execution_count": 27,
   "metadata": {},
   "outputs": [],
   "source": [
    "df1.to_csv('part1_result.csv', index=None) # Extract the csv file"
   ]
  },
  {
   "cell_type": "code",
   "execution_count": null,
   "metadata": {},
   "outputs": [],
   "source": []
  }
 ],
 "metadata": {
  "kernelspec": {
   "display_name": "base",
   "language": "python",
   "name": "python3"
  },
  "language_info": {
   "codemirror_mode": {
    "name": "ipython",
    "version": 3
   },
   "file_extension": ".py",
   "mimetype": "text/x-python",
   "name": "python",
   "nbconvert_exporter": "python",
   "pygments_lexer": "ipython3",
   "version": "3.10.6"
  },
  "orig_nbformat": 4
 },
 "nbformat": 4,
 "nbformat_minor": 2
}
